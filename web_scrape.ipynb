{
 "cells": [
  {
   "cell_type": "markdown",
   "metadata": {},
   "source": [
    "<h4> Web Scrape Module </h4>"
   ]
  },
  {
   "cell_type": "markdown",
   "metadata": {},
   "source": [
    "The purpose of this module is to bypass complicated astronomy math using number that would likely need to be scraped anyway such as hour angle and latitude.\n",
    "<br>\n",
    "<br>\n",
    "<i>\n",
    "Elevation angle:\n",
    "<br>\n",
    "</i>\n",
    "The elevation angle is the angular height of the sun in the sky measured from the horizontal.\n",
    "\n",
    "α=sin−1 (sinδ sinϕ +cosδ cosϕ cos(HRA))\n",
    "\n",
    "Where δ is the declination angle, ϕ is the local latitude and HRA is the Hour angle.\n",
    "\n",
    "Zenith Angle:\n",
    "\n",
    "The zenith angle is the angle between the sun and the vertical. The zenith angle is similar to the elevation angle but it is measured from the vertical rather than from the horizontal, thus making the zenith\n",
    "Zenith=90°−α\n",
    "\n",
    "Where α is the elevation angle.\n",
    "\n",
    "<br>\n",
    "By calling solartopo.com it is possible to fill out the less common info our model uses to predict a target W/m^2"
   ]
  },
  {
   "cell_type": "code",
   "execution_count": 132,
   "metadata": {},
   "outputs": [
    {
     "data": {
      "text/plain": [
       "'C:/Users/Mark/Downloads/chromedriver_win32/chromedriver.exe'"
      ]
     },
     "execution_count": 132,
     "metadata": {},
     "output_type": "execute_result"
    }
   ],
   "source": [
    "from time import sleep, strftime\n",
    "from random import randint\n",
    "import datetime\n",
    "import pandas as pd\n",
    "from selenium import webdriver\n",
    "from selenium.webdriver.common.keys import Keys\n",
    "from bs4 import BeautifulSoup\n",
    "\n",
    "\n",
    "#imports for SMTP\n",
    "import smtplib\n",
    "from os.path import basename\n",
    "from email.mime.multipart import MIMEMultipart\n",
    "from email.mime.text import MIMEText\n",
    "from email.mime.application import MIMEApplication\n",
    "\n",
    "Me = \"Users/Mark/Downloads\"\n",
    "\n",
    "chromedriver_path = f'C:/{Me}/chromedriver_win32/chromedriver.exe'\n",
    "\n",
    "chromedriver_path"
   ]
  },
  {
   "cell_type": "code",
   "execution_count": 50,
   "metadata": {},
   "outputs": [],
   "source": [
    "driver = webdriver.Chrome(executable_path=chromedriver_path)\n",
    "sleep(.25)"
   ]
  },
  {
   "cell_type": "code",
   "execution_count": 76,
   "metadata": {},
   "outputs": [],
   "source": [
    "# update latitude and longitude to \n",
    "location = 80232\n",
    "# lat = # call to where lat is stored\n",
    "# long = # call to where long is stored\n",
    "current_time = datetime.datetime.now()\n",
    "# Get's yesterday, the most current full day of data\n",
    "default_time = (f'{current_time.day-1}/{current_time.month}/{current_time.year}.{current_time.hour}:{current_time.minute}') # time must be in this format"
   ]
  },
  {
   "cell_type": "code",
   "execution_count": null,
   "metadata": {},
   "outputs": [],
   "source": [
    "# sun_calc = (f'https://www.suncalc.org/#/{lat},{long},9/{time}/324.0/2')"
   ]
  },
  {
   "cell_type": "code",
   "execution_count": 19,
   "metadata": {},
   "outputs": [],
   "source": [
    "solartopo = 'http://solartopo.com'\n",
    "orbit = '/solar-orbit.htm'\n",
    "daylight = '/daylength.htm'"
   ]
  },
  {
   "cell_type": "code",
   "execution_count": 20,
   "metadata": {},
   "outputs": [],
   "source": [
    "#  SunCalc\n",
    "\n",
    "# //*[@id=\"sunhoehe\"] #\n",
    "# //*[@id=\"clickSunrise\"] # sunrise (listens for click)"
   ]
  },
  {
   "cell_type": "code",
   "execution_count": 21,
   "metadata": {},
   "outputs": [],
   "source": [
    "#  Solar Topo\n",
    "\n",
    "date_picker = '//*[@id=\"datepicker\"]'\n",
    "address_bar = '//*[@id=\"address\"]'\n",
    "submit = '/html/body/div[1]/div[9]/div[1]/input[2]'"
   ]
  },
  {
   "cell_type": "markdown",
   "metadata": {},
   "source": [
    "<h4> Sunpath Hit </h4>"
   ]
  },
  {
   "cell_type": "code",
   "execution_count": 72,
   "metadata": {},
   "outputs": [],
   "source": [
    "def get_sunpath():\n",
    "    '''\n",
    "    helper function that retrieves the sunpath data.\n",
    "    '''\n",
    "    zenith = driver.find_element_by_xpath('//*[@id=\"zenith\"]').text\n",
    "    azimuth = driver.find_element_by_xpath('//*[@id=\"azimuth\"]').text\n",
    "    if zenith == '' or azimuth == '':\n",
    "        driver.refresh();\n",
    "    zenith = float(zenith.split('°')[0])\n",
    "    azimuth = float(azimuth.split('°')[0])\n",
    "\n",
    "    return azimuth, zenith"
   ]
  },
  {
   "cell_type": "markdown",
   "metadata": {},
   "source": [
    "<h4> Sunrise & Sunset Hit </h4>"
   ]
  },
  {
   "cell_type": "code",
   "execution_count": 61,
   "metadata": {},
   "outputs": [],
   "source": [
    "def get_time(user_input = None):\n",
    "    '''\n",
    "    gets time in the right formats for our calls\n",
    "    outputs are in strings\n",
    "    user_input takes a user input rather than the current time\n",
    "    \n",
    "    '''\n",
    "    if user_input:\n",
    "#         will be a sol format datefield string  mm/dd/yyyy\n",
    "        units = user_input.split('/')\n",
    "    else:\n",
    "        current_time = datetime.datetime.now() #this doesn't run?\n",
    "        units = [current_time.year, current_time.month, \n",
    "                 current_time.day, current_time.hour, \n",
    "                 current_time.minute]\n",
    "    time_list = []\n",
    "    for unit in units:\n",
    "        if unit < 10:\n",
    "            unit = '0' + str(unit)\n",
    "        time_list.append(unit)\n",
    "    return time_list\n",
    "\n",
    "def convert_time(time_list, sol = True):\n",
    "    '''\n",
    "    turns the time_list into the correct format for specific calls\n",
    "    if sol, format for solortopo.  if not, format for darksky\n",
    "    returns a string\n",
    "    '''\n",
    "    time = (f'{time_list[3]}:{time_list[4]}:00')\n",
    "    if sol:\n",
    "        solartopo_date = (f'{time_list[2]-1}/{time_list[1]}/{time_list[0]}')\n",
    "        return solartopo_date, time\n",
    "    else:\n",
    "        darksky_date = (f'{time_list[0]}-{time_list[1]}-{time_list[2]-1}')\n",
    "        return darksky_date, time"
   ]
  },
  {
   "cell_type": "code",
   "execution_count": 126,
   "metadata": {},
   "outputs": [
    {
     "data": {
      "text/plain": [
       "'24/08/2019'"
      ]
     },
     "execution_count": 126,
     "metadata": {},
     "output_type": "execute_result"
    }
   ],
   "source": [
    "time_list = get_time()\n",
    "sol, time = convert_time(time_list)\n",
    "sol"
   ]
  },
  {
   "cell_type": "code",
   "execution_count": 123,
   "metadata": {},
   "outputs": [],
   "source": [
    "def get_next_day(dates):\n",
    "    '''\n",
    "    time is relative, add a day.\n",
    "    accepts sol format\n",
    "    '''\n",
    "    split = dates.split('/')\n",
    "    integers = [int(x) for x in split]\n",
    "    integers[0] += 1\n",
    "    string = '/'.join(str(num) for num in integers)\n",
    "    return string"
   ]
  },
  {
   "cell_type": "code",
   "execution_count": 122,
   "metadata": {},
   "outputs": [
    {
     "name": "stdout",
     "output_type": "stream",
     "text": [
      "['24', '08', '2019']\n",
      "[25, 8, 2019]\n",
      "25/8/2019\n"
     ]
    }
   ],
   "source": [
    "sol2 = get_next_day(sol)\n"
   ]
  },
  {
   "cell_type": "code",
   "execution_count": 129,
   "metadata": {},
   "outputs": [],
   "source": [
    "sunrise = 600\n",
    "sunset = 1000\n",
    "\n",
    "def collect_data(time_span=2, location=80232, date = sol, sunrise = sunrise, sunset = sunset):\n",
    "    '''\n",
    "    function takes a time in days, a zipcode, and a date\n",
    "    and prepares a dictionary of information for as many days as time_span designates\n",
    "    '''\n",
    "    \n",
    "    sun_getter = (f'{solartopo}{orbit}')\n",
    "    driver.get(sun_getter)\n",
    "    sleep(randint(2,3))\n",
    "    \n",
    "    \n",
    "    for i in range(time_span):\n",
    "    \n",
    "        driver.find_element_by_xpath(f\"{date_picker}\").clear()\n",
    "        driver.find_element_by_xpath(f\"{date_picker}\").send_keys(f'{date}')\n",
    "        driver.find_element_by_xpath(f\"{address_bar}\").clear()\n",
    "        driver.find_element_by_xpath(f\"{address_bar}\").send_keys(f'{location}')\n",
    "        driver.find_element_by_xpath(f\"{submit}\").click()\n",
    "    \n",
    "    # scrape sunrise sunset(from previous data)\n",
    "# \n",
    "#     \n",
    "        \n",
    "        # Trun the clock back in order to get chronologic readings\n",
    "\n",
    "        display_time = driver.find_element_by_xpath('//*[@id=\"time\"]').text\n",
    "        slider = driver.find_element_by_xpath('//*[@id=\"slider-range-min\"]/a')\n",
    "        while convert_time_minutes(display_time) > sunrise:\n",
    "            print(display_time)\n",
    "            display_time = driver.find_element_by_xpath('//*[@id=\"time\"]').text\n",
    "            slider.send_keys(Keys.ARROW_LEFT + Keys.ARROW_LEFT + Keys.ARROW_LEFT + Keys.ARROW_LEFT + Keys.ARROW_LEFT\n",
    "                            + Keys.ARROW_LEFT + Keys.ARROW_LEFT + Keys.ARROW_LEFT + Keys.ARROW_LEFT + Keys.ARROW_LEFT)\n",
    "            \n",
    "        # Change the date in preperation for the next call\n",
    "        \n",
    "        sol = get_next_day(date)\n",
    "        \n",
    "        # Collect readings for daylight hours\n",
    "        \n",
    "        for reading in range(time_span):\n",
    "            slider.click()\n",
    "            # hard coded for 15 minute intervals 24 * 4 = 96 are the max intervals in one day\n",
    "            for i in range(96):\n",
    "                slider.send_keys(Keys.ARROW_RIGHT + Keys.ARROW_RIGHT + Keys.ARROW_RIGHT + Keys.ARROW_RIGHT + Keys.ARROW_RIGHT\n",
    "                            + Keys.ARROW_RIGHT + Keys.ARROW_RIGHT + Keys.ARROW_RIGHT + Keys.ARROW_RIGHT + Keys.ARROW_RIGHT\n",
    "                                + Keys.ARROW_RIGHT + Keys.ARROW_RIGHT + Keys.ARROW_RIGHT + Keys.ARROW_RIGHT + Keys.ARROW_RIGHT)\n",
    "                minute = convert_time_minutes(driver.find_element_by_xpath('//*[@id=\"time\"]').text)\n",
    "                print(minute)\n",
    "                if minute < sunrise:\n",
    "                    pass\n",
    "                elif minute >= sunset:\n",
    "                    break\n",
    "                else:\n",
    "                    # scrape zenith / azimuth\n",
    "                    zenith, azimuth = get_sunpath()\n",
    "                    # append zenith / azimuth to \n",
    "                \n",
    "    return"
   ]
  },
  {
   "cell_type": "code",
   "execution_count": 130,
   "metadata": {},
   "outputs": [
    {
     "name": "stdout",
     "output_type": "stream",
     "text": [
      "12:00\n",
      "12:00\n",
      "11:50\n",
      "11:40\n",
      "11:30\n",
      "11:20\n",
      "11:10\n",
      "11:00\n",
      "10:50\n",
      "10:40\n",
      "10:30\n",
      "10:20\n",
      "10:10\n",
      "605\n",
      "41.45° 113.7°\n",
      "620\n",
      "44.03° 117.29°\n",
      "635\n",
      "46.56° 121.09°\n",
      "650\n",
      "48.95° 125.29°\n",
      "665\n",
      "51.25° 129.75°\n",
      "680\n",
      "53.35° 134.73°\n",
      "695\n",
      "55.32° 140.03°\n",
      "710\n",
      "57.02° 145.95°\n",
      "725\n",
      "58.53° 152.19°\n",
      "740\n",
      "59.67° 159.06°\n",
      "755\n",
      "60.58° 166.15°\n",
      "770\n",
      "61.02° 173.68°\n",
      "785\n",
      "61.21° 181.22°\n",
      "800\n",
      "60.89° 188.8°\n",
      "815\n",
      "60.33° 196.18°\n",
      "830\n",
      "59.29° 203.19°\n",
      "845\n",
      "58.06° 209.89°\n",
      "860\n",
      "56.45° 215.97°\n",
      "875\n",
      "54.68° 221.73°\n",
      "890\n",
      "52.63° 226.86°\n",
      "905\n",
      "50.48° 231.72°\n",
      "920\n",
      "48.13° 236.03°\n",
      "935\n",
      "45.7° 240.13°\n",
      "950\n",
      "43.14° 243.81°\n",
      "965\n",
      "40.53° 247.33°\n",
      "980\n",
      "37.83° 250.53°\n",
      "995\n",
      "35.09° 253.63°\n",
      "1010\n",
      "1025\n",
      "17:05\n",
      "17:05\n",
      "16:55\n",
      "16:45\n",
      "16:35\n",
      "16:25\n",
      "16:15\n",
      "16:05\n",
      "15:55\n",
      "15:45\n",
      "15:35\n",
      "15:25\n",
      "15:15\n",
      "15:05\n",
      "14:55\n",
      "14:45\n",
      "14:35\n",
      "14:25\n",
      "14:15\n",
      "14:05\n",
      "13:55\n",
      "13:45\n",
      "13:35\n",
      "13:25\n",
      "13:15\n",
      "13:05\n",
      "12:55\n",
      "12:45\n",
      "12:35\n",
      "12:25\n",
      "12:15\n",
      "12:05\n",
      "11:55\n",
      "11:45\n",
      "11:35\n",
      "11:25\n",
      "11:15\n",
      "11:05\n",
      "10:55\n",
      "10:45\n",
      "10:35\n",
      "10:25\n",
      "10:15\n",
      "10:05\n",
      "600\n",
      "40.58° 112.5°\n",
      "615\n",
      "43.17° 116.1°\n",
      "630\n",
      "45.76° 119.69°\n",
      "645\n",
      "48.15° 123.89°\n",
      "660\n",
      "50.55° 128.08°\n",
      "675\n",
      "52.65° 133.07°\n",
      "690\n",
      "54.76° 138.05°\n",
      "705\n",
      "56.46° 143.98°\n",
      "720\n",
      "58.15° 149.9°\n",
      "735\n",
      "59.29° 156.77°\n",
      "750\n",
      "60.43° 163.64°\n",
      "765\n",
      "60.87° 171.17°\n",
      "780\n",
      "61.31° 178.69°\n",
      "795\n",
      "60.99° 186.27°\n",
      "810\n",
      "60.67° 193.85°\n",
      "825\n",
      "59.64° 200.85°\n",
      "840\n",
      "58.6° 207.86°\n",
      "855\n",
      "56.99° 213.94°\n",
      "870\n",
      "55.37° 220.03°\n",
      "885\n",
      "53.32° 225.15°\n",
      "900\n",
      "51.27° 230.28°\n",
      "915\n",
      "48.91° 234.59°\n",
      "930\n",
      "46.56° 238.91°\n",
      "945\n",
      "43.99° 242.58°\n",
      "960\n",
      "41.43° 246.26°\n",
      "975\n",
      "38.73° 249.47°\n",
      "990\n",
      "36.02° 252.67°\n",
      "1005\n",
      "1020\n"
     ]
    }
   ],
   "source": [
    "collect_data()"
   ]
  }
 ],
 "metadata": {
  "kernelspec": {
   "display_name": "Python 3",
   "language": "python",
   "name": "python3"
  },
  "language_info": {
   "codemirror_mode": {
    "name": "ipython",
    "version": 3
   },
   "file_extension": ".py",
   "mimetype": "text/x-python",
   "name": "python",
   "nbconvert_exporter": "python",
   "pygments_lexer": "ipython3",
   "version": "3.6.7"
  }
 },
 "nbformat": 4,
 "nbformat_minor": 2
}
