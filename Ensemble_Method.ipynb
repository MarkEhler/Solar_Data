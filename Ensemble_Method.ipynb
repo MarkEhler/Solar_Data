{
 "cells": [
  {
   "cell_type": "markdown",
   "metadata": {},
   "source": [
    "<h4> W/m^2 Model </h4>\n",
    "\n",
    "this module is to be used in conjunction with the solar data provided from the Data_collection.ipynb and API_calls.ipynp modules and fed into the Dashboard.ipynp module to predict the current and historic data Watt per meter squared production of a user defined location."
   ]
  },
  {
   "cell_type": "code",
   "execution_count": 1,
   "metadata": {},
   "outputs": [],
   "source": [
    "from sklearn.model_selection import train_test_split, GridSearchCV\n",
    "from sklearn.tree import DecisionTreeRegressor \n",
    "from sklearn.ensemble import RandomForestRegressor, GradientBoostingRegressor, AdaBoostRegressor\n",
    "from sklearn.metrics import r2_score, mean_absolute_error, explained_variance_score\n",
    "import sklearn.preprocessing as preprocessing\n",
    "import sklearn.pipeline\n",
    " \n",
    "import pandas as pd\n",
    "import numpy as np\n",
    "\n",
    "import matplotlib.pyplot as plt\n",
    "\n",
    "import pickle\n",
    "# import timeit"
   ]
  },
  {
   "cell_type": "code",
   "execution_count": 2,
   "metadata": {},
   "outputs": [],
   "source": [
    "data = pd.read_csv('Final_df.csv', sep= \"\\t\")"
   ]
  },
  {
   "cell_type": "code",
   "execution_count": 3,
   "metadata": {},
   "outputs": [
    {
     "name": "stdout",
     "output_type": "stream",
     "text": [
      "(2563478, 8)\n"
     ]
    },
    {
     "data": {
      "text/html": [
       "<div>\n",
       "<style scoped>\n",
       "    .dataframe tbody tr th:only-of-type {\n",
       "        vertical-align: middle;\n",
       "    }\n",
       "\n",
       "    .dataframe tbody tr th {\n",
       "        vertical-align: top;\n",
       "    }\n",
       "\n",
       "    .dataframe thead th {\n",
       "        text-align: right;\n",
       "    }\n",
       "</style>\n",
       "<table border=\"1\" class=\"dataframe\">\n",
       "  <thead>\n",
       "    <tr style=\"text-align: right;\">\n",
       "      <th></th>\n",
       "      <th>Zenith Angle [degrees]</th>\n",
       "      <th>Azimuth Angle [degrees]</th>\n",
       "      <th>Latitude [deg]</th>\n",
       "      <th>Longitude [deg]</th>\n",
       "      <th>Temp [deg C]</th>\n",
       "      <th>Minutes</th>\n",
       "      <th>Direct Irradiance [W/m^2]</th>\n",
       "      <th>Global Irradiance [W/m^2]</th>\n",
       "    </tr>\n",
       "  </thead>\n",
       "  <tbody>\n",
       "    <tr>\n",
       "      <th>0</th>\n",
       "      <td>124.102</td>\n",
       "      <td>358.791</td>\n",
       "      <td>39.75685</td>\n",
       "      <td>104.62025</td>\n",
       "      <td>18.08</td>\n",
       "      <td>0.0</td>\n",
       "      <td>-1.000000</td>\n",
       "      <td>-1.0</td>\n",
       "    </tr>\n",
       "    <tr>\n",
       "      <th>1</th>\n",
       "      <td>124.105</td>\n",
       "      <td>359.082</td>\n",
       "      <td>39.75685</td>\n",
       "      <td>104.62025</td>\n",
       "      <td>18.14</td>\n",
       "      <td>1.0</td>\n",
       "      <td>-1.000000</td>\n",
       "      <td>-1.0</td>\n",
       "    </tr>\n",
       "    <tr>\n",
       "      <th>2</th>\n",
       "      <td>124.108</td>\n",
       "      <td>359.372</td>\n",
       "      <td>39.75685</td>\n",
       "      <td>104.62025</td>\n",
       "      <td>18.17</td>\n",
       "      <td>2.0</td>\n",
       "      <td>-0.712310</td>\n",
       "      <td>-1.0</td>\n",
       "    </tr>\n",
       "    <tr>\n",
       "      <th>3</th>\n",
       "      <td>124.109</td>\n",
       "      <td>359.659</td>\n",
       "      <td>39.75685</td>\n",
       "      <td>104.62025</td>\n",
       "      <td>18.20</td>\n",
       "      <td>3.0</td>\n",
       "      <td>-0.396415</td>\n",
       "      <td>-1.0</td>\n",
       "    </tr>\n",
       "    <tr>\n",
       "      <th>4</th>\n",
       "      <td>124.110</td>\n",
       "      <td>359.952</td>\n",
       "      <td>39.75685</td>\n",
       "      <td>104.62025</td>\n",
       "      <td>18.21</td>\n",
       "      <td>4.0</td>\n",
       "      <td>-0.371638</td>\n",
       "      <td>-1.0</td>\n",
       "    </tr>\n",
       "  </tbody>\n",
       "</table>\n",
       "</div>"
      ],
      "text/plain": [
       "   Zenith Angle [degrees]  Azimuth Angle [degrees]  Latitude [deg]  \\\n",
       "0                 124.102                  358.791        39.75685   \n",
       "1                 124.105                  359.082        39.75685   \n",
       "2                 124.108                  359.372        39.75685   \n",
       "3                 124.109                  359.659        39.75685   \n",
       "4                 124.110                  359.952        39.75685   \n",
       "\n",
       "   Longitude [deg]  Temp [deg C]  Minutes  Direct Irradiance [W/m^2]  \\\n",
       "0        104.62025         18.08      0.0                  -1.000000   \n",
       "1        104.62025         18.14      1.0                  -1.000000   \n",
       "2        104.62025         18.17      2.0                  -0.712310   \n",
       "3        104.62025         18.20      3.0                  -0.396415   \n",
       "4        104.62025         18.21      4.0                  -0.371638   \n",
       "\n",
       "   Global Irradiance [W/m^2]  \n",
       "0                       -1.0  \n",
       "1                       -1.0  \n",
       "2                       -1.0  \n",
       "3                       -1.0  \n",
       "4                       -1.0  "
      ]
     },
     "execution_count": 3,
     "metadata": {},
     "output_type": "execute_result"
    }
   ],
   "source": [
    "print(data.shape)\n",
    "data.head(5)"
   ]
  },
  {
   "cell_type": "markdown",
   "metadata": {},
   "source": [
    "<h3> 1st Iteration: Basic Decision Tree </h3>"
   ]
  },
  {
   "cell_type": "code",
   "execution_count": 4,
   "metadata": {},
   "outputs": [],
   "source": [
    "cols = data.columns"
   ]
  },
  {
   "cell_type": "code",
   "execution_count": 5,
   "metadata": {},
   "outputs": [
    {
     "data": {
      "image/png": "[encoded data removed]",
      "text/plain": [
       "<Figure size 2160x1440 with 9 Axes>"
      ]
     },
     "metadata": {
      "needs_background": "light"
     },
     "output_type": "display_data"
    }
   ],
   "source": [
    "feat = data.loc[:, 'Zenith Angle [degrees]':'Global Irradiance [W/m^2]']\n",
    "feat.hist(figsize=(30,20), bins=20);"
   ]
  },
  {
   "cell_type": "code",
   "execution_count": 6,
   "metadata": {},
   "outputs": [
    {
     "data": {
      "image/png": "[encoded data removed]",
      "text/plain": [
       "<Figure size 720x720 with 1 Axes>"
      ]
     },
     "metadata": {
      "needs_background": "light"
     },
     "output_type": "display_data"
    },
    {
     "data": {
      "image/png": "[encoded data removed]",
      "text/plain": [
       "<Figure size 720x720 with 1 Axes>"
      ]
     },
     "metadata": {
      "needs_background": "light"
     },
     "output_type": "display_data"
    },
    {
     "data": {
      "image/png": "[encoded data removed]",
      "text/plain": [
       "<Figure size 720x720 with 1 Axes>"
      ]
     },
     "metadata": {
      "needs_background": "light"
     },
     "output_type": "display_data"
    },
    {
     "data": {
      "image/png": "[encoded data removed]",
      "text/plain": [
       "<Figure size 720x720 with 1 Axes>"
      ]
     },
     "metadata": {
      "needs_background": "light"
     },
     "output_type": "display_data"
    },
    {
     "data": {
      "image/png": "[encoded data removed]",
      "text/plain": [
       "<Figure size 720x720 with 1 Axes>"
      ]
     },
     "metadata": {
      "needs_background": "light"
     },
     "output_type": "display_data"
    },
    {
     "data": {
      "image/png": "[encoded data removed]",
      "text/plain": [
       "<Figure size 720x720 with 1 Axes>"
      ]
     },
     "metadata": {
      "needs_background": "light"
     },
     "output_type": "display_data"
    },
    {
     "data": {
      "image/png": "[encoded data removed]",
      "text/plain": [
       "<Figure size 720x720 with 1 Axes>"
      ]
     },
     "metadata": {
      "needs_background": "light"
     },
     "output_type": "display_data"
    },
    {
     "data": {
      "image/png": "[encoded data removed]",
      "text/plain": [
       "<Figure size 720x720 with 1 Axes>"
      ]
     },
     "metadata": {
      "needs_background": "light"
     },
     "output_type": "display_data"
    }
   ],
   "source": [
    "for f in feat:\n",
    "    pd.DataFrame(data[f]).boxplot(figsize=(10,10));\n",
    "    plt.show();"
   ]
  },
  {
   "cell_type": "code",
   "execution_count": 7,
   "metadata": {},
   "outputs": [
    {
     "name": "stdout",
     "output_type": "stream",
     "text": [
      "(2563478, 8)\n"
     ]
    },
    {
     "data": {
      "text/plain": [
       "2516130    2224.1000\n",
       "2437218    2224.1000\n",
       "2437223    2094.3000\n",
       "2516135    2094.3000\n",
       "2437207    1734.4000\n",
       "2516119    1734.4000\n",
       "2517239    1713.5000\n",
       "2438327    1713.5000\n",
       "707582     1666.8885\n",
       "707581     1661.6112\n",
       "Name: Direct Irradiance [W/m^2], dtype: float64"
      ]
     },
     "execution_count": 7,
     "metadata": {},
     "output_type": "execute_result"
    }
   ],
   "source": [
    "# On the bar and box plots it looks like we have extreme outliers.  \n",
    "# I don't think this is too unreasonable for a set 2m strong and will leave them in.\n",
    "print(data.shape)\n",
    "data['Direct Irradiance [W/m^2]'].sort_values(ascending=False).head(10)"
   ]
  },
  {
   "cell_type": "code",
   "execution_count": 8,
   "metadata": {},
   "outputs": [
    {
     "data": {
      "image/png": "[encoded data removed]",
      "text/plain": [
       "<Figure size 432x288 with 2 Axes>"
      ]
     },
     "metadata": {
      "needs_background": "light"
     },
     "output_type": "display_data"
    }
   ],
   "source": [
    "import seaborn as sns\n",
    "sns.heatmap(feat.corr(), center=0);"
   ]
  },
  {
   "cell_type": "code",
   "execution_count": 9,
   "metadata": {},
   "outputs": [
    {
     "data": {
      "text/plain": [
       "Index(['Zenith Angle [degrees]', 'Azimuth Angle [degrees]', 'Latitude [deg]',\n",
       "       'Longitude [deg]', 'Temp [deg C]', 'Minutes',\n",
       "       'Direct Irradiance [W/m^2]', 'Global Irradiance [W/m^2]'],\n",
       "      dtype='object')"
      ]
     },
     "execution_count": 9,
     "metadata": {},
     "output_type": "execute_result"
    }
   ],
   "source": [
    "cols"
   ]
  },
  {
   "cell_type": "code",
   "execution_count": 4,
   "metadata": {},
   "outputs": [
    {
     "data": {
      "text/plain": [
       "dict_keys(['global', 'direct'])"
      ]
     },
     "execution_count": 4,
     "metadata": {},
     "output_type": "execute_result"
    }
   ],
   "source": [
    "'''\n",
    "Two possible target variables:\n",
    "Direct Irradiance should have a stronger correlation with peak sunlight hours\n",
    "Global Irradiance should account for more features in the eco system.\n",
    "I might want to engineer a model that can account for both.  I might want to run either and choose the better predictor.\n",
    "'''\n",
    "\n",
    "# Global\n",
    "X_g = data.drop(['Global Irradiance [W/m^2]', 'Direct Irradiance [W/m^2]'],axis = 1)\n",
    "y_g = data['Global Irradiance [W/m^2]']\n",
    "\n",
    "# Direct\n",
    "X_d = data.drop(['Global Irradiance [W/m^2]', 'Direct Irradiance [W/m^2]'],axis = 1)\n",
    "y_d = data['Direct Irradiance [W/m^2]']\n",
    "\n",
    "targets = {'global': [X_g, y_g], 'direct': [X_d, y_d]}\n",
    "targets.keys()"
   ]
  },
  {
   "cell_type": "markdown",
   "metadata": {},
   "source": [
    "<h3> Preprocessing options </h3>\n",
    "\n",
    "multiple variables will be set and tested in order to try different versions of the models.  Several iterations will be run to see which fits the test data best and which works best with real life data as second test."
   ]
  },
  {
   "cell_type": "code",
   "execution_count": 40,
   "metadata": {},
   "outputs": [],
   "source": [
    "minmax = preprocessing.MinMaxScaler()\n",
    "X_norm = minmax.fit_transform(targets['global'][0])\n",
    "scaler = minmax.fit(targets['global'][0])"
   ]
  },
  {
   "cell_type": "code",
   "execution_count": 6,
   "metadata": {},
   "outputs": [
    {
     "name": "stdout",
     "output_type": "stream",
     "text": [
      "(1794434, 6) (1794434,)\n",
      "(769044, 6) (769044,)\n"
     ]
    }
   ],
   "source": [
    "x_tr, x_ts, y_tr, y_ts = train_test_split(X_norm, targets['global'][1], test_size= 0.3)\n",
    "print(x_tr.shape, y_tr.shape)\n",
    "print(x_ts.shape, y_ts.shape)"
   ]
  },
  {
   "cell_type": "markdown",
   "metadata": {},
   "source": [
    "<h4> Standard Scaler </h4>"
   ]
  },
  {
   "cell_type": "code",
   "execution_count": 60,
   "metadata": {},
   "outputs": [],
   "source": [
    "ss = preprocessing.StandardScaler()\n",
    "X_scale = ss.fit_transform(targets['global'][0])\n",
    "ss_scaler = ss.fit(targets['global'][0])"
   ]
  },
  {
   "cell_type": "code",
   "execution_count": 61,
   "metadata": {},
   "outputs": [],
   "source": [
    "x_tr, x_ts, y_tr, y_ts = train_test_split(X_scale, targets['global'][1], test_size= 0.3)"
   ]
  },
  {
   "cell_type": "markdown",
   "metadata": {},
   "source": [
    "#### DecisionTreeRegressor\n",
    "\n",
    "max_depth : int or None, optional (default=None)\n",
    "\n",
    "    The maximum depth of the tree. If None, then nodes are expanded until all leaves are pure or until all leaves contain less than min_samples_split samples.\n",
    "min_samples_split : int, float, optional (default=2)\n",
    "\n",
    "    The minimum number of samples required to split an internal node:\n",
    "\n",
    "        If int, then consider min_samples_split as the minimum number.\n",
    "        If float, then min_samples_split is a fraction and ceil(min_samples_split * n_samples) are the minimum number of samples for each split.\n",
    "\n",
    "    Changed in version 0.18: Added float values for fractions.\n",
    "min_samples_leaf : int, float, optional (default=1)\n",
    "\n",
    "    The minimum number of samples required to be at a leaf node. A split point at any depth will only be considered if it leaves at least min_samples_leaf training samples in each of the left and right branches. This may have the effect of smoothing the model, especially in regression.\n",
    "\n",
    "        If int, then consider min_samples_leaf as the minimum number.\n",
    "        If float, then min_samples_leaf is a fraction and ceil(min_samples_leaf * n_samples) are the minimum number of samples for each node.\n",
    "\n",
    "    Changed in version 0.18: Added float values for fractions.\n",
    "min_weight_fraction_leaf : float, optional (default=0.)\n",
    "\n",
    "    The minimum weighted fraction of the sum total of weights (of all the input samples) required to be at a leaf node. Samples have equal weight when sample_weight is not provided.\n",
    "max_features : int, float, string or None, optional (default=None)\n",
    "\n",
    "    The number of features to consider when looking for the best split:\n",
    "\n",
    "        If int, then consider max_features features at each split.\n",
    "        If float, then max_features is a fraction and int(max_features * n_features) features are considered at each split.\n",
    "        If “auto”, then max_features=n_features.\n",
    "        If “sqrt”, then max_features=sqrt(n_features).\n",
    "        If “log2”, then max_features=log2(n_features).\n",
    "        If None, then max_features=n_features.\n"
   ]
  },
  {
   "cell_type": "code",
   "execution_count": 16,
   "metadata": {},
   "outputs": [],
   "source": [
    "reg_tree = DecisionTreeRegressor()"
   ]
  },
  {
   "cell_type": "code",
   "execution_count": 17,
   "metadata": {},
   "outputs": [
    {
     "name": "stdout",
     "output_type": "stream",
     "text": [
      "Wall time: 21.4 s\n"
     ]
    },
    {
     "data": {
      "text/plain": [
       "DecisionTreeRegressor(criterion='mse', max_depth=None, max_features=None,\n",
       "           max_leaf_nodes=None, min_impurity_decrease=0.0,\n",
       "           min_impurity_split=None, min_samples_leaf=1,\n",
       "           min_samples_split=2, min_weight_fraction_leaf=0.0,\n",
       "           presort=False, random_state=None, splitter='best')"
      ]
     },
     "execution_count": 17,
     "metadata": {},
     "output_type": "execute_result"
    }
   ],
   "source": [
    "%%time\n",
    "\n",
    "reg_tree.fit(x_tr, y_tr)"
   ]
  },
  {
   "cell_type": "code",
   "execution_count": 18,
   "metadata": {},
   "outputs": [
    {
     "name": "stdout",
     "output_type": "stream",
     "text": [
      "Coefficent of determination 0.8804379117325533\n"
     ]
    }
   ],
   "source": [
    "print(f'Coefficent of determination {reg_tree.score(x_ts, y_ts)}')"
   ]
  },
  {
   "cell_type": "code",
   "execution_count": 19,
   "metadata": {},
   "outputs": [
    {
     "data": {
      "text/plain": [
       "Index(['Zenith Angle [degrees]', 'Azimuth Angle [degrees]', 'Latitude [deg]',\n",
       "       'Longitude [deg]', 'Temp [deg C]', 'Minutes'],\n",
       "      dtype='object')"
      ]
     },
     "execution_count": 19,
     "metadata": {},
     "output_type": "execute_result"
    }
   ],
   "source": [
    "targets['global'][0].columns"
   ]
  },
  {
   "cell_type": "code",
   "execution_count": 20,
   "metadata": {},
   "outputs": [
    {
     "data": {
      "text/plain": [
       "array([0.81626838, 0.05041357, 0.0063045 , 0.02186492, 0.07651319,\n",
       "       0.02863544])"
      ]
     },
     "execution_count": 20,
     "metadata": {},
     "output_type": "execute_result"
    }
   ],
   "source": [
    "reg_tree.feature_importances_"
   ]
  },
  {
   "cell_type": "code",
   "execution_count": 22,
   "metadata": {},
   "outputs": [
    {
     "data": {
      "text/plain": [
       "array([[1.        , 0.94015641],\n",
       "       [0.94015641, 1.        ]])"
      ]
     },
     "execution_count": 22,
     "metadata": {},
     "output_type": "execute_result"
    }
   ],
   "source": [
    "y_pred = reg_tree.predict(x_ts)\n",
    "np.corrcoef(y_pred, y_ts)"
   ]
  },
  {
   "cell_type": "code",
   "execution_count": 34,
   "metadata": {},
   "outputs": [],
   "source": [
    "# memorizing training data because max_depth is set too high\n",
    "def cv_mse_plot(x, y, max_depth = 5, num = 15):\n",
    "    from sklearn.metrics import mean_squared_error\n",
    "    train_err = []\n",
    "    test_err = []\n",
    "    for i in range(num):\n",
    "        x_tr, x_ts, y_tr, y_ts = train_test_split(x, y, test_size= 0.3)\n",
    "        reg_tree = DecisionTreeRegressor(max_depth=max_depth)\n",
    "        reg_tree.fit(x_tr, y_tr)\n",
    "        y_hat_train = reg_tree.predict(x_tr)\n",
    "        y_hat_test = reg_tree.predict(x_ts)\n",
    "        train_err.append(mean_squared_error(y_tr, y_hat_train))\n",
    "        test_err.append(mean_squared_error(y_ts, y_hat_test))\n",
    "    plt.scatter(list(range(num)), train_err, label='Training Error')\n",
    "    plt.title(f'Error over {num} instances')\n",
    "    plt.scatter(list(range(num)), test_err, label='Testing Error')\n",
    "    plt.legend();\n",
    "    return reg_tree"
   ]
  },
  {
   "cell_type": "code",
   "execution_count": 36,
   "metadata": {},
   "outputs": [
    {
     "data": {
      "image/png": "[encoded data removed]",
      "text/plain": [
       "<Figure size 432x288 with 1 Axes>"
      ]
     },
     "metadata": {
      "needs_background": "light"
     },
     "output_type": "display_data"
    }
   ],
   "source": [
    "# Plot the results\n",
    "global_5 = cv_mse_plot(X_norm, targets['global'][1])"
   ]
  },
  {
   "cell_type": "code",
   "execution_count": 37,
   "metadata": {},
   "outputs": [
    {
     "data": {
      "image/png": "[encoded data removed]",
      "text/plain": [
       "<Figure size 432x288 with 1 Axes>"
      ]
     },
     "metadata": {
      "needs_background": "light"
     },
     "output_type": "display_data"
    }
   ],
   "source": [
    "golobal_3_depth = cv_mse_plot(X_norm, targets['global'][1], max_depth = 3)"
   ]
  },
  {
   "cell_type": "code",
   "execution_count": 38,
   "metadata": {},
   "outputs": [],
   "source": [
    "# golobal_3_depth = cv_mse_plot(X_norm, targets['global'][1], max_depth = 3)"
   ]
  },
  {
   "cell_type": "code",
   "execution_count": 39,
   "metadata": {},
   "outputs": [
    {
     "data": {
      "image/png": "[encoded data removed]",
      "text/plain": [
       "<Figure size 432x288 with 1 Axes>"
      ]
     },
     "metadata": {
      "needs_background": "light"
     },
     "output_type": "display_data"
    }
   ],
   "source": [
    "minmax = preprocessing.MinMaxScaler()\n",
    "X_norm = minmax.fit_transform(targets['direct'][0])\n",
    "direct_5_depth = cv_mse_plot(X_norm, targets['direct'][1])"
   ]
  },
  {
   "cell_type": "code",
   "execution_count": 40,
   "metadata": {},
   "outputs": [
    {
     "data": {
      "image/png": "[encoded data removed]",
      "text/plain": [
       "<Figure size 432x288 with 1 Axes>"
      ]
     },
     "metadata": {
      "needs_background": "light"
     },
     "output_type": "display_data"
    }
   ],
   "source": [
    "direct_3_depth = cv_mse_plot(X_norm, targets['direct'][1], max_depth = 3)"
   ]
  },
  {
   "cell_type": "markdown",
   "metadata": {},
   "source": [
    "The global irradiadiance looks to be fit better than the direct irradiance. <br><b> global irradiance will be used for the remainder of this module. </b>\n"
   ]
  },
  {
   "cell_type": "code",
   "execution_count": 46,
   "metadata": {},
   "outputs": [],
   "source": [
    "def cv_mse_scoring(model, x, y, num_cv = 10):\n",
    "    '''\n",
    "    takes several runs from the supplied data and model and averages the error\n",
    "    '''\n",
    "    from sklearn.model_selection import cross_val_score\n",
    "    x_tr, x_ts, y_tr, y_ts = train_test_split(x, y, test_size= 0.3)\n",
    "    y_pred = model.predict(x_ts)\n",
    "    \n",
    "    cv_results = np.mean(cross_val_score(model, x_tr, y_tr, cv=num_cv, scoring=\"neg_mean_squared_error\"))\n",
    "    cv_test_results = np.mean(cross_val_score(model, y_pred.reshape(-1, 1), y_ts, cv=num_cv, scoring=\"neg_mean_squared_error\"))\n",
    "    \n",
    "    ###MSE is the squared W/m^2 error\n",
    "    from math import sqrt\n",
    "    pos_MSE = -1*cv_results\n",
    "    Median_Error = sqrt(pos_MSE)\n",
    "    print(f'Average error of prediction model vs training data: {round(Median_Error, 2)}W/m^2')\n",
    "\n",
    "    pos_MSE_test = -1*cv_test_results\n",
    "    Median_Error = sqrt(pos_MSE_test)\n",
    "    print(f'Average error of prediction model vs test data: {round(Median_Error, 2)}W/m^2')"
   ]
  },
  {
   "cell_type": "code",
   "execution_count": 47,
   "metadata": {},
   "outputs": [
    {
     "name": "stdout",
     "output_type": "stream",
     "text": [
      "Average error of prediction model vs training data: 128.53W/m^2\n",
      "Average error of prediction model vs test data: 128.59W/m^2\n"
     ]
    }
   ],
   "source": [
    "cv_mse_scoring(global_5, X_norm, targets['global'][1])"
   ]
  },
  {
   "cell_type": "markdown",
   "metadata": {},
   "source": [
    "### 2nd Iteration : Decision Tree + Hyperparameters"
   ]
  },
  {
   "cell_type": "code",
   "execution_count": 57,
   "metadata": {},
   "outputs": [],
   "source": [
    "reg_tree2 = DecisionTreeRegressor()\n",
    "\n",
    "\n",
    "param_grid = {\n",
    "    \"criterion\": [\"mse\"],\n",
    "    \"max_depth\": [3, 4, 5, 6, 7],\n",
    "    \"min_samples_split\": [1.0, 5, 10, 20]\n",
    "}\n",
    "\n",
    "gs_tree = GridSearchCV(reg_tree2, param_grid, cv=3)"
   ]
  },
  {
   "cell_type": "code",
   "execution_count": 58,
   "metadata": {},
   "outputs": [
    {
     "data": {
      "text/plain": [
       "GridSearchCV(cv=3, error_score='raise-deprecating',\n",
       "       estimator=DecisionTreeRegressor(criterion='mse', max_depth=None, max_features=None,\n",
       "           max_leaf_nodes=None, min_impurity_decrease=0.0,\n",
       "           min_impurity_split=None, min_samples_leaf=1,\n",
       "           min_samples_split=2, min_weight_fraction_leaf=0.0,\n",
       "           presort=False, random_state=None, splitter='best'),\n",
       "       fit_params=None, iid='warn', n_jobs=None,\n",
       "       param_grid={'criterion': ['mse'], 'max_depth': [2, 3, 4, 5, 6], 'min_samples_split': [1.0, 5, 10, 20]},\n",
       "       pre_dispatch='2*n_jobs', refit=True, return_train_score='warn',\n",
       "       scoring=None, verbose=0)"
      ]
     },
     "execution_count": 58,
     "metadata": {},
     "output_type": "execute_result"
    }
   ],
   "source": [
    "gs_tree.fit(x_tr, y_tr)"
   ]
  },
  {
   "cell_type": "code",
   "execution_count": 59,
   "metadata": {},
   "outputs": [
    {
     "data": {
      "text/plain": [
       "0.8237713458379637"
      ]
     },
     "execution_count": 59,
     "metadata": {},
     "output_type": "execute_result"
    }
   ],
   "source": [
    "print(f'Coefficent of determination {gs_tree.best_score_}')"
   ]
  },
  {
   "cell_type": "code",
   "execution_count": 60,
   "metadata": {},
   "outputs": [
    {
     "data": {
      "text/plain": [
       "{'criterion': 'mse', 'max_depth': 6, 'min_samples_split': 5}"
      ]
     },
     "execution_count": 60,
     "metadata": {},
     "output_type": "execute_result"
    }
   ],
   "source": [
    "gs_tree.best_params_"
   ]
  },
  {
   "cell_type": "markdown",
   "metadata": {},
   "source": [
    "We take a bit of a hit on the accuracy as to be expected since our initial model was overfitting.  Now that we know that our max_depth should be around 5 We will try more powerful models and validate again later."
   ]
  },
  {
   "cell_type": "markdown",
   "metadata": {},
   "source": [
    "<h3> Random Forest </h3>"
   ]
  },
  {
   "cell_type": "code",
   "execution_count": 71,
   "metadata": {},
   "outputs": [],
   "source": [
    "forest_reg = RandomForestRegressor()\n",
    "\n",
    "param_grid = {\n",
    "    \"criterion\": [\"mse\"],\n",
    "    \"max_depth\" : [5,6,7,8],\n",
    "    \"max_features\" : ['auto'],\n",
    "    \"max_leaf_nodes\" : [None],\n",
    "    \"min_impurity_decrease\" : [0.0],\n",
    "    \"min_impurity_split\" : [None],\n",
    "    \"min_samples_leaf\" : [2,1],\n",
    "    \"min_samples_split\" : [4,6],\n",
    "    \"min_weight_fraction_leaf\" : [0.0],\n",
    "    \"n_estimators\" : [75,100],\n",
    "}\n",
    "\n",
    "grid_forest = GridSearchCV(forest_reg, param_grid, cv=3, n_jobs=5, verbose=2, scoring='r2')"
   ]
  },
  {
   "cell_type": "code",
   "execution_count": 72,
   "metadata": {},
   "outputs": [
    {
     "name": "stdout",
     "output_type": "stream",
     "text": [
      "Fitting 3 folds for each of 72 candidates, totalling 216 fits\n"
     ]
    },
    {
     "name": "stderr",
     "output_type": "stream",
     "text": [
      "[Parallel(n_jobs=5)]: Using backend LokyBackend with 5 concurrent workers.\n",
      "[Parallel(n_jobs=5)]: Done  31 tasks      | elapsed: 57.0min\n",
      "[Parallel(n_jobs=5)]: Done 152 tasks      | elapsed: 321.5min\n",
      "[Parallel(n_jobs=5)]: Done 216 out of 216 | elapsed: 501.6min finished\n"
     ]
    },
    {
     "name": "stdout",
     "output_type": "stream",
     "text": [
      "Wall time: 8h 29min 24s\n"
     ]
    },
    {
     "data": {
      "text/plain": [
       "GridSearchCV(cv=3, error_score='raise-deprecating',\n",
       "       estimator=RandomForestRegressor(bootstrap=True, criterion='mse', max_depth=None,\n",
       "           max_features='auto', max_leaf_nodes=None,\n",
       "           min_impurity_decrease=0.0, min_impurity_split=None,\n",
       "           min_samples_leaf=1, min_samples_split=2,\n",
       "           min_weight_fraction_leaf=0.0, n_estimators='warn', n_jobs=None,\n",
       "           oob_score=False, random_state=None, verbose=0, warm_start=False),\n",
       "       fit_params=None, iid='warn', n_jobs=5,\n",
       "       param_grid={'criterion': ['mse'], 'max_depth': [4, 5, 6, 7], 'max_features': ['auto'], 'max_leaf_nodes': [None], 'min_impurity_decrease': [0.0], 'min_impurity_split': [None], 'min_samples_leaf': [2, 1], 'min_samples_split': [4, 6, 8], 'min_weight_fraction_leaf': [0.0], 'n_estimators': [75, 100, 200]},\n",
       "       pre_dispatch='2*n_jobs', refit=True, return_train_score='warn',\n",
       "       scoring=None, verbose=2)"
      ]
     },
     "execution_count": 72,
     "metadata": {},
     "output_type": "execute_result"
    }
   ],
   "source": [
    "%%time\n",
    "grid_forest.fit(x_tr, y_tr)"
   ]
  },
  {
   "cell_type": "code",
   "execution_count": 73,
   "metadata": {},
   "outputs": [],
   "source": [
    "# save the model to disk\n",
    "filename = 'random_forest.sav'\n",
    "pickle.dump(grid_forest, open(filename, 'wb'))"
   ]
  },
  {
   "cell_type": "code",
   "execution_count": 75,
   "metadata": {},
   "outputs": [
    {
     "name": "stdout",
     "output_type": "stream",
     "text": [
      "Grid Search found the following optimal parameters: \n",
      "criterion: 'mse'\n",
      "max_depth: 7\n",
      "max_features: 'auto'\n",
      "max_leaf_nodes: None\n",
      "min_impurity_decrease: 0.0\n",
      "min_impurity_split: None\n",
      "min_samples_leaf: 1\n",
      "min_samples_split: 4\n",
      "min_weight_fraction_leaf: 0.0\n",
      "n_estimators: 75\n",
      "Explained variance 0.8340060672209564\n"
     ]
    }
   ],
   "source": [
    "best_parameters = grid_forest.best_params_\n",
    "\n",
    "print(\"Grid Search found the following optimal parameters: \")\n",
    "for param_name in sorted(best_parameters.keys()):\n",
    "    print(\"%s: %r\" % (param_name, best_parameters[param_name]))\n",
    "\n",
    "training_preds = grid_forest.predict(x_tr)\n",
    "val_preds = grid_forest.predict(x_ts)\n",
    "\n",
    "# Metrics\n",
    "# r2_score, mean_absolute_error, explained_variance_score\n",
    "print(f'Explained variance {explained_variance_score(y_ts, val_preds)}')"
   ]
  },
  {
   "cell_type": "code",
   "execution_count": 76,
   "metadata": {},
   "outputs": [
    {
     "data": {
      "text/plain": [
       "0.8340060672095044"
      ]
     },
     "execution_count": 76,
     "metadata": {},
     "output_type": "execute_result"
    }
   ],
   "source": [
    "r2 = r2_score(y_ts, val_preds)\n",
    "r2"
   ]
  },
  {
   "cell_type": "code",
   "execution_count": 82,
   "metadata": {},
   "outputs": [
    {
     "name": "stdout",
     "output_type": "stream",
     "text": [
      "The average difference between true values and predicted values is 62.036736115005695\n"
     ]
    }
   ],
   "source": [
    "print(f'The average difference between true values and predicted values is {mean_absolute_error(y_ts, val_preds)}')"
   ]
  },
  {
   "cell_type": "markdown",
   "metadata": {},
   "source": [
    "<h3> AdaBoost </h3>"
   ]
  },
  {
   "cell_type": "code",
   "execution_count": 85,
   "metadata": {},
   "outputs": [],
   "source": [
    "Ada_reg = AdaBoostRegressor(DecisionTreeRegressor(max_depth=7),\n",
    "                          n_estimators=75) # mirror best params from other model\n",
    "\n",
    "Ada_reg.fit(x_tr, y_tr)\n",
    "\n",
    "# Predict\n",
    "y_hat = Ada_reg.predict(x_ts)"
   ]
  },
  {
   "cell_type": "code",
   "execution_count": 86,
   "metadata": {},
   "outputs": [
    {
     "name": "stdout",
     "output_type": "stream",
     "text": [
      "Explained variance 0.7945267770577392\n"
     ]
    }
   ],
   "source": [
    "print(f'Explained variance {explained_variance_score(y_ts, y_hat)}')"
   ]
  },
  {
   "cell_type": "code",
   "execution_count": 87,
   "metadata": {},
   "outputs": [],
   "source": [
    "Ada_reg = AdaBoostRegressor(DecisionTreeRegressor(max_depth=4),\n",
    "                          n_estimators=100) # mirror best params from other model\n",
    "\n",
    "Ada_reg.fit(x_tr, y_tr)\n",
    "\n",
    "# Predict\n",
    "y_hat = Ada_reg.predict(x_ts)"
   ]
  },
  {
   "cell_type": "code",
   "execution_count": 88,
   "metadata": {},
   "outputs": [
    {
     "name": "stdout",
     "output_type": "stream",
     "text": [
      "Explained variance 0.7915657788726351\n"
     ]
    }
   ],
   "source": [
    "print(f'Explained variance {explained_variance_score(y_ts, y_hat)}')"
   ]
  },
  {
   "cell_type": "markdown",
   "metadata": {},
   "source": [
    "AdaBoost doesn't seem to preform very well compared to the previous models"
   ]
  },
  {
   "cell_type": "markdown",
   "metadata": {},
   "source": [
    "<h3> XGBoost </h3>"
   ]
  },
  {
   "cell_type": "code",
   "execution_count": 7,
   "metadata": {},
   "outputs": [],
   "source": [
    "import xgboost as xgb"
   ]
  },
  {
   "cell_type": "code",
   "execution_count": 10,
   "metadata": {},
   "outputs": [
    {
     "name": "stdout",
     "output_type": "stream",
     "text": [
      "['_Booster', '__class__', '__delattr__', '__dict__', '__dir__', '__doc__', '__eq__', '__format__', '__ge__', '__getattribute__', '__getstate__', '__gt__', '__hash__', '__init__', '__init_subclass__', '__le__', '__lt__', '__module__', '__ne__', '__new__', '__reduce__', '__reduce_ex__', '__repr__', '__setattr__', '__setstate__', '__sizeof__', '__str__', '__subclasshook__', '__weakref__', '_estimator_type', '_get_param_names', 'apply', 'base_score', 'booster', 'coef_', 'colsample_bylevel', 'colsample_bynode', 'colsample_bytree', 'evals_result', 'feature_importances_', 'fit', 'gamma', 'get_booster', 'get_num_boosting_rounds', 'get_params', 'get_xgb_params', 'importance_type', 'intercept_', 'kwargs', 'learning_rate', 'load_model', 'max_delta_step', 'max_depth', 'min_child_weight', 'missing', 'n_estimators', 'n_jobs', 'nthread', 'objective', 'predict', 'random_state', 'reg_alpha', 'reg_lambda', 'save_model', 'scale_pos_weight', 'score', 'seed', 'set_params', 'silent', 'subsample', 'verbosity']\n"
     ]
    }
   ],
   "source": [
    "xgb_reg = xgb.XGBRegressor(max_depth=3, learning_rate=0.1, n_estimators=100, silent=True, \n",
    "                 objective='reg:linear', gamma=0, min_child_weight=1, \n",
    "                 max_delta_step=0, subsample=1, colsample_bytree=1, \n",
    "                 seed=0, missing=None)"
   ]
  },
  {
   "cell_type": "code",
   "execution_count": 11,
   "metadata": {},
   "outputs": [
    {
     "name": "stderr",
     "output_type": "stream",
     "text": [
      "C:\\Users\\Mark\\AppData\\Local\\Continuum\\anaconda3\\lib\\site-packages\\xgboost\\core.py:587: FutureWarning: Series.base is deprecated and will be removed in a future version\n",
      "  if getattr(data, 'base', None) is not None and \\\n"
     ]
    },
    {
     "data": {
      "text/plain": [
       "XGBRegressor(base_score=0.5, booster='gbtree', colsample_bylevel=1,\n",
       "       colsample_bynode=1, colsample_bytree=1, gamma=0,\n",
       "       importance_type='gain', learning_rate=0.1, max_delta_step=0,\n",
       "       max_depth=3, min_child_weight=1, missing=None, n_estimators=100,\n",
       "       n_jobs=1, nthread=None, objective='reg:linear', random_state=0,\n",
       "       reg_alpha=0, reg_lambda=1, scale_pos_weight=1, seed=0, silent=True,\n",
       "       subsample=1, verbosity=1)"
      ]
     },
     "execution_count": 11,
     "metadata": {},
     "output_type": "execute_result"
    }
   ],
   "source": [
    "xgb_reg.fit(x_tr, y_tr)"
   ]
  },
  {
   "cell_type": "code",
   "execution_count": 12,
   "metadata": {},
   "outputs": [],
   "source": [
    "val_preds = xgb_reg.predict(x_ts)"
   ]
  },
  {
   "cell_type": "code",
   "execution_count": 16,
   "metadata": {},
   "outputs": [
    {
     "name": "stdout",
     "output_type": "stream",
     "text": [
      "Explained variance 0.8388814740360321\n",
      "\n",
      "The average difference between true values and predicted values is 65.01123788890875\n"
     ]
    }
   ],
   "source": [
    "print(f'Explained variance {explained_variance_score(y_ts, val_preds)}')\n",
    "print('')\n",
    "print(f'The average difference between true values and predicted values is {mean_absolute_error(y_ts, val_preds)}')"
   ]
  },
  {
   "cell_type": "markdown",
   "metadata": {},
   "source": [
    "This is close to the results we got after doing a grid search on the random forest model,\n",
    "it warrents a grid search of it's own."
   ]
  },
  {
   "cell_type": "code",
   "execution_count": 8,
   "metadata": {},
   "outputs": [],
   "source": [
    "xgb_grid = xgb.XGBRegressor(objective='reg:linear')\n",
    "param_grid = {\n",
    "    \"learning_rate\": [0.1, 0.2],\n",
    "    'max_depth': [3,4,5],\n",
    "    'min_child_weight': [10],\n",
    "    'subsample': [0.7, 1],\n",
    "    'n_estimators': [50, 100, 250],\n",
    "}\n",
    "\n",
    "grid_xgb = GridSearchCV(xgb_grid, param_grid, scoring='r2', cv=3, n_jobs=4, verbose=2)"
   ]
  },
  {
   "cell_type": "code",
   "execution_count": 9,
   "metadata": {},
   "outputs": [
    {
     "name": "stdout",
     "output_type": "stream",
     "text": [
      "Fitting 3 folds for each of 36 candidates, totalling 108 fits\n"
     ]
    },
    {
     "name": "stderr",
     "output_type": "stream",
     "text": [
      "[Parallel(n_jobs=4)]: Using backend LokyBackend with 4 concurrent workers.\n",
      "[Parallel(n_jobs=4)]: Done  33 tasks      | elapsed: 30.2min\n",
      "[Parallel(n_jobs=4)]: Done 108 out of 108 | elapsed: 114.2min finished\n",
      "C:\\Users\\Mark\\AppData\\Local\\Continuum\\anaconda3\\lib\\site-packages\\xgboost\\core.py:587: FutureWarning: Series.base is deprecated and will be removed in a future version\n",
      "  if getattr(data, 'base', None) is not None and \\\n"
     ]
    },
    {
     "name": "stdout",
     "output_type": "stream",
     "text": [
      "[00:10:12] WARNING: d:\\build\\xgboost\\xgboost-0.90.git\\src\\objective\\regression_obj.cu:152: reg:linear is now deprecated in favor of reg:squarederror.\n",
      "Wall time: 2h 1min 39s\n"
     ]
    },
    {
     "data": {
      "text/plain": [
       "GridSearchCV(cv=3, error_score='raise-deprecating',\n",
       "       estimator=XGBRegressor(base_score=0.5, booster='gbtree', colsample_bylevel=1,\n",
       "       colsample_bynode=1, colsample_bytree=1, gamma=0,\n",
       "       importance_type='gain', learning_rate=0.1, max_delta_step=0,\n",
       "       max_depth=3, min_child_weight=1, missing=None, n_estimators=100,\n",
       "       n_jobs=1, nthread=None, objective='reg:linear', random_state=0,\n",
       "       reg_alpha=0, reg_lambda=1, scale_pos_weight=1, seed=None,\n",
       "       silent=None, subsample=1, verbosity=1),\n",
       "       fit_params=None, iid='warn', n_jobs=4,\n",
       "       param_grid={'learning_rate': [0.1, 0.2], 'max_depth': [3, 4, 5], 'min_child_weight': [10], 'subsample': [0.7, 1], 'n_estimators': [50, 100, 250]},\n",
       "       pre_dispatch='2*n_jobs', refit=True, return_train_score='warn',\n",
       "       scoring='r2', verbose=2)"
      ]
     },
     "execution_count": 9,
     "metadata": {},
     "output_type": "execute_result"
    }
   ],
   "source": [
    "%%time\n",
    "grid_xgb.fit(x_tr, y_tr)"
   ]
  },
  {
   "cell_type": "code",
   "execution_count": 10,
   "metadata": {},
   "outputs": [
    {
     "name": "stdout",
     "output_type": "stream",
     "text": [
      "Grid Search found the following optimal parameters: \n",
      "learning_rate: 0.2\n",
      "max_depth: 5\n",
      "min_child_weight: 10\n",
      "n_estimators: 250\n",
      "subsample: 1\n"
     ]
    }
   ],
   "source": [
    "best_parameters = grid_xgb.best_params_\n",
    "\n",
    "print(\"Grid Search found the following optimal parameters: \")\n",
    "for param_name in sorted(best_parameters.keys()):\n",
    "    print(\"%s: %r\" % (param_name, best_parameters[param_name]))\n",
    "\n",
    "training_preds = grid_xgb.predict(x_tr)\n",
    "val_preds = grid_xgb.predict(x_ts)"
   ]
  },
  {
   "cell_type": "code",
   "execution_count": 13,
   "metadata": {},
   "outputs": [
    {
     "name": "stdout",
     "output_type": "stream",
     "text": [
      "Explained variance 0.8580126115154864\n",
      "\n",
      "The average difference between true values and predicted values is 56.71531492077808\n"
     ]
    }
   ],
   "source": [
    "print(f'Explained variance {explained_variance_score(y_ts, val_preds)}')\n",
    "print('')\n",
    "print(f'The average difference between true values and predicted values is {mean_absolute_error(y_ts, val_preds)}')"
   ]
  },
  {
   "cell_type": "code",
   "execution_count": 11,
   "metadata": {},
   "outputs": [],
   "source": [
    "# save the model to disk\n",
    "filename = 'xgboost.sav'\n",
    "pickle.dump(grid_xgb, open(filename, 'wb'))"
   ]
  },
  {
   "cell_type": "markdown",
   "metadata": {},
   "source": [
    "<h3> 2nd Run XGBoost </h3>"
   ]
  },
  {
   "cell_type": "code",
   "execution_count": 19,
   "metadata": {},
   "outputs": [],
   "source": [
    "xgb_grid = xgb.XGBRegressor(objective='reg:linear')\n",
    "param_grid = {\n",
    "    \"learning_rate\": [0.1, 0.2],\n",
    "    'max_depth': [4,5,6],\n",
    "    'min_child_weight': [10],\n",
    "    'subsample': [1, 2],\n",
    "    'n_estimators': [100, 250, 300],\n",
    "}\n",
    "\n",
    "grid_xgb2 = GridSearchCV(xgb_grid, param_grid, scoring='r2', cv=3, n_jobs=4, verbose=2)"
   ]
  },
  {
   "cell_type": "code",
   "execution_count": 30,
   "metadata": {},
   "outputs": [],
   "source": [
    "clf_xgb = xgb.XGBRegressor(objective = 'reg:linear')\n",
    "param_dist = {'n_estimators': [100, 250, 300],\n",
    "              'learning_rate': [0.2, 0.3],\n",
    "              'subsample': [0.6, 0.9],\n",
    "              'max_depth': [4, 5, 6, 7],\n",
    "              'min_child_weight': [4, 6, 10]\n",
    "             }\n",
    "\n",
    "clf = GridSearchCV(clf_xgb,\n",
    "             param_dist,\n",
    "             cv = 3,\n",
    "             scoring = 'r2', \n",
    "             error_score = 0, \n",
    "             verbose = 3, \n",
    "             n_jobs = -1)"
   ]
  },
  {
   "cell_type": "code",
   "execution_count": 31,
   "metadata": {},
   "outputs": [
    {
     "name": "stdout",
     "output_type": "stream",
     "text": [
      "Fitting 3 folds for each of 144 candidates, totalling 432 fits\n"
     ]
    },
    {
     "name": "stderr",
     "output_type": "stream",
     "text": [
      "[Parallel(n_jobs=-1)]: Using backend LokyBackend with 8 concurrent workers.\n",
      "[Parallel(n_jobs=-1)]: Done  16 tasks      | elapsed: 22.9min\n",
      "[Parallel(n_jobs=-1)]: Done 112 tasks      | elapsed: 173.2min\n",
      "[Parallel(n_jobs=-1)]: Done 272 tasks      | elapsed: 492.5min\n",
      "[Parallel(n_jobs=-1)]: Done 432 out of 432 | elapsed: 830.0min finished\n",
      "C:\\Users\\Mark\\AppData\\Local\\Continuum\\anaconda3\\lib\\site-packages\\xgboost\\core.py:587: FutureWarning: Series.base is deprecated and will be removed in a future version\n",
      "  if getattr(data, 'base', None) is not None and \\\n"
     ]
    },
    {
     "name": "stdout",
     "output_type": "stream",
     "text": [
      "[13:14:40] WARNING: d:\\build\\xgboost\\xgboost-0.90.git\\src\\objective\\regression_obj.cu:152: reg:linear is now deprecated in favor of reg:squarederror.\n",
      "Wall time: 14h 2min 40s\n"
     ]
    },
    {
     "data": {
      "text/plain": [
       "GridSearchCV(cv=3, error_score=0,\n",
       "       estimator=XGBRegressor(base_score=0.5, booster='gbtree', colsample_bylevel=1,\n",
       "       colsample_bynode=1, colsample_bytree=1, gamma=0,\n",
       "       importance_type='gain', learning_rate=0.1, max_delta_step=0,\n",
       "       max_depth=3, min_child_weight=1, missing=None, n_estimators=100,\n",
       "       n_jobs=1, nthread=None, objective='reg:linear', random_state=0,\n",
       "       reg_alpha=0, reg_lambda=1, scale_pos_weight=1, seed=None,\n",
       "       silent=None, subsample=1, verbosity=1),\n",
       "       fit_params=None, iid='warn', n_jobs=-1,\n",
       "       param_grid={'n_estimators': [100, 250, 300], 'learning_rate': [0.2, 0.3], 'subsample': [0.6, 0.9], 'max_depth': [4, 5, 6, 7], 'min_child_weight': [4, 6, 10]},\n",
       "       pre_dispatch='2*n_jobs', refit=True, return_train_score='warn',\n",
       "       scoring='r2', verbose=3)"
      ]
     },
     "execution_count": 31,
     "metadata": {},
     "output_type": "execute_result"
    }
   ],
   "source": [
    "%%time\n",
    "clf.fit(x_tr, y_tr)"
   ]
  },
  {
   "cell_type": "code",
   "execution_count": 33,
   "metadata": {},
   "outputs": [
    {
     "name": "stdout",
     "output_type": "stream",
     "text": [
      "Grid Search found the following optimal parameters: \n",
      "learning_rate: 0.3\n",
      "max_depth: 7\n",
      "min_child_weight: 10\n",
      "n_estimators: 300\n",
      "subsample: 0.9\n"
     ]
    }
   ],
   "source": [
    "best_parameters = clf.best_params_\n",
    "\n",
    "print(\"Grid Search found the following optimal parameters: \")\n",
    "for param_name in sorted(best_parameters.keys()):\n",
    "    print(\"%s: %r\" % (param_name, best_parameters[param_name]))\n",
    "\n",
    "training_preds = clf.predict(x_tr)\n",
    "val_preds = clf.predict(x_ts)"
   ]
  },
  {
   "cell_type": "markdown",
   "metadata": {},
   "source": [
    "Grid Search found the following optimal parameters: <br>\n",
    "learning_rate: 0.3 <br>\n",
    "max_depth: 7 <br> \n",
    "min_child_weight: 10 <br>\n",
    "n_estimators: 300 <br>\n",
    "subsample: 0.9 <br>"
   ]
  },
  {
   "cell_type": "code",
   "execution_count": 34,
   "metadata": {},
   "outputs": [
    {
     "name": "stdout",
     "output_type": "stream",
     "text": [
      "Explained variance 0.8730574440770459\n",
      "\n",
      "The average difference between true values and predicted values is 52.59745000632475\n"
     ]
    }
   ],
   "source": [
    "print(f'Explained variance {explained_variance_score(y_ts, val_preds)}')\n",
    "print('')\n",
    "print(f'The average difference between true values and predicted values is {mean_absolute_error(y_ts, val_preds)}')"
   ]
  },
  {
   "cell_type": "code",
   "execution_count": 52,
   "metadata": {},
   "outputs": [],
   "source": [
    "# save the model to disk\n",
    "filename = 'finalized_model.pkl'\n",
    "pickle.dump(clf, open(filename, 'wb'))"
   ]
  },
  {
   "cell_type": "code",
   "execution_count": 53,
   "metadata": {},
   "outputs": [],
   "source": [
    "# save scaler to disk\n",
    "scaler_file = 'scaler.pkl'\n",
    "pickle.dump(scaler, open(scaler_file, 'wb'))"
   ]
  },
  {
   "cell_type": "markdown",
   "metadata": {},
   "source": [
    "<h4> Standard Scaler XGBoost </h4>\n",
    "\n",
    "setting train test variables to standard scaler preprocessing, see code above."
   ]
  },
  {
   "cell_type": "code",
   "execution_count": 64,
   "metadata": {},
   "outputs": [],
   "source": [
    "clf_xgb = xgb.XGBRegressor(objective = 'reg:linear')\n",
    "ss_param_dist = {'n_estimators': [250, 300],\n",
    "              'learning_rate': [0.2, 0.3],\n",
    "              'subsample': [1],\n",
    "              'max_depth': [6, 7],\n",
    "              'min_child_weight': [6, 10, 12]\n",
    "             }\n",
    "\n",
    "ss_clf = GridSearchCV(clf_xgb,\n",
    "             ss_param_dist,\n",
    "             cv = 3,\n",
    "             scoring = 'r2', \n",
    "             error_score = 0, \n",
    "             verbose = 3, \n",
    "             n_jobs = -1)"
   ]
  },
  {
   "cell_type": "code",
   "execution_count": 65,
   "metadata": {},
   "outputs": [
    {
     "name": "stdout",
     "output_type": "stream",
     "text": [
      "Fitting 3 folds for each of 24 candidates, totalling 72 fits\n"
     ]
    },
    {
     "name": "stderr",
     "output_type": "stream",
     "text": [
      "[Parallel(n_jobs=-1)]: Using backend LokyBackend with 8 concurrent workers.\n",
      "[Parallel(n_jobs=-1)]: Done  16 tasks      | elapsed: 49.7min\n",
      "[Parallel(n_jobs=-1)]: Done  72 out of  72 | elapsed: 221.9min finished\n",
      "C:\\Users\\Mark\\AppData\\Local\\Continuum\\anaconda3\\lib\\site-packages\\xgboost\\core.py:587: FutureWarning: Series.base is deprecated and will be removed in a future version\n",
      "  if getattr(data, 'base', None) is not None and \\\n"
     ]
    },
    {
     "name": "stdout",
     "output_type": "stream",
     "text": [
      "[02:51:38] WARNING: d:\\build\\xgboost\\xgboost-0.90.git\\src\\objective\\regression_obj.cu:152: reg:linear is now deprecated in favor of reg:squarederror.\n",
      "Wall time: 3h 55min 48s\n"
     ]
    },
    {
     "data": {
      "text/plain": [
       "GridSearchCV(cv=3, error_score=0,\n",
       "       estimator=XGBRegressor(base_score=0.5, booster='gbtree', colsample_bylevel=1,\n",
       "       colsample_bynode=1, colsample_bytree=1, gamma=0,\n",
       "       importance_type='gain', learning_rate=0.1, max_delta_step=0,\n",
       "       max_depth=3, min_child_weight=1, missing=None, n_estimators=100,\n",
       "       n_jobs=1, nthread=None, objective='reg:linear', random_state=0,\n",
       "       reg_alpha=0, reg_lambda=1, scale_pos_weight=1, seed=None,\n",
       "       silent=None, subsample=1, verbosity=1),\n",
       "       fit_params=None, iid='warn', n_jobs=-1,\n",
       "       param_grid={'n_estimators': [250, 300], 'learning_rate': [0.2, 0.3], 'subsample': [1], 'max_depth': [6, 7], 'min_child_weight': [6, 10, 12]},\n",
       "       pre_dispatch='2*n_jobs', refit=True, return_train_score='warn',\n",
       "       scoring='r2', verbose=3)"
      ]
     },
     "execution_count": 65,
     "metadata": {},
     "output_type": "execute_result"
    }
   ],
   "source": [
    "%%time\n",
    "ss_clf.fit(x_tr, y_tr)"
   ]
  },
  {
   "cell_type": "code",
   "execution_count": 66,
   "metadata": {},
   "outputs": [
    {
     "name": "stdout",
     "output_type": "stream",
     "text": [
      "Grid Search found the following optimal parameters: \n",
      "learning_rate: 0.3\n",
      "max_depth: 7\n",
      "min_child_weight: 12\n",
      "n_estimators: 300\n",
      "subsample: 1\n"
     ]
    }
   ],
   "source": [
    "best_parameters = ss_clf.best_params_\n",
    "\n",
    "print(\"Grid Search found the following optimal parameters: \")\n",
    "for param_name in sorted(best_parameters.keys()):\n",
    "    print(\"%s: %r\" % (param_name, best_parameters[param_name]))\n",
    "\n",
    "training_preds = ss_clf.predict(x_tr)\n",
    "val_preds = ss_clf.predict(x_ts)"
   ]
  },
  {
   "cell_type": "code",
   "execution_count": 67,
   "metadata": {},
   "outputs": [
    {
     "name": "stdout",
     "output_type": "stream",
     "text": [
      "Explained variance 0.8749156521335829\n",
      "\n",
      "The average difference between true values and predicted values is 52.33108581440932\n"
     ]
    }
   ],
   "source": [
    "print(f'Explained variance {explained_variance_score(y_ts, val_preds)}')\n",
    "print('')\n",
    "print(f'The average difference between true values and predicted values is {mean_absolute_error(y_ts, val_preds)}')"
   ]
  },
  {
   "cell_type": "code",
   "execution_count": 68,
   "metadata": {},
   "outputs": [],
   "source": [
    "# save the model to disk\n",
    "filename = 'ss_model.pkl'\n",
    "pickle.dump(clf, open(filename, 'wb'))\n",
    "\n",
    "# save scaler to disk\n",
    "scaler_file = 'ss_scaler.pkl'\n",
    "pickle.dump(scaler, open(scaler_file, 'wb'))"
   ]
  },
  {
   "cell_type": "code",
   "execution_count": null,
   "metadata": {},
   "outputs": [],
   "source": []
  },
  {
   "cell_type": "code",
   "execution_count": null,
   "metadata": {},
   "outputs": [],
   "source": []
  },
  {
   "cell_type": "code",
   "execution_count": null,
   "metadata": {},
   "outputs": [],
   "source": []
  },
  {
   "cell_type": "markdown",
   "metadata": {},
   "source": [
    "<h2> Saving Best </h2>"
   ]
  },
  {
   "cell_type": "code",
   "execution_count": 27,
   "metadata": {},
   "outputs": [],
   "source": [
    "# Plot the results\n",
    "# plt.figure()\n",
    "# plt.scatter(X, y, c=\"k\", label=\"training samples\")\n",
    "# plt.plot(X, y_1, c=\"g\", label=\"n_estimators=1\", linewidth=2)\n",
    "# plt.plot(X, y_2, c=\"r\", label=\"n_estimators=300\", linewidth=2)\n",
    "# plt.xlabel(\"data\")\n",
    "# plt.ylabel(\"target\")\n",
    "# plt.title(\"Boosted Decision Tree Regression\")\n",
    "# plt.legend()\n",
    "# plt.show()"
   ]
  },
  {
   "cell_type": "code",
   "execution_count": 37,
   "metadata": {},
   "outputs": [
    {
     "data": {
      "text/plain": [
       "sklearn.model_selection._search.GridSearchCV"
      ]
     },
     "execution_count": 37,
     "metadata": {},
     "output_type": "execute_result"
    }
   ],
   "source": [
    "type(grid_xgb)"
   ]
  },
  {
   "cell_type": "code",
   "execution_count": 59,
   "metadata": {},
   "outputs": [
    {
     "data": {
      "text/plain": [
       "Index(['Zenith Angle [degrees]', 'Azimuth Angle [degrees]', 'Latitude [deg]',\n",
       "       'Longitude [deg]', 'Temp [deg C]', 'Minutes',\n",
       "       'Direct Irradiance [W/m^2]', 'Global Irradiance [W/m^2]'],\n",
       "      dtype='object')"
      ]
     },
     "execution_count": 59,
     "metadata": {},
     "output_type": "execute_result"
    }
   ],
   "source": [
    "data.columns"
   ]
  },
  {
   "cell_type": "code",
   "execution_count": 38,
   "metadata": {},
   "outputs": [],
   "source": [
    "# predict hard coded date with final model\n",
    "results = {'Zenith Angle [degrees]': [50., 53, 68, 0, 0, 0], 'Azimuth Angle [degrees]': [159., 200., 179., 0, 0, 0], \n",
    "           'Latitude [deg]': [30, 30, 30, 0, 0, 0], 'Longitude [deg]': [-150, -150, -150, 0, 0, 0], 'Temp [deg C]': [25., 26., 5., 0, 0, 0], \n",
    "           'Minutes': [1000, 900, 879, 0, 0, 0]}\n"
   ]
  },
  {
   "cell_type": "code",
   "execution_count": 43,
   "metadata": {},
   "outputs": [],
   "source": [
    "test_results = pd.DataFrame(results)\n",
    "x_test = test_results"
   ]
  },
  {
   "cell_type": "code",
   "execution_count": 48,
   "metadata": {},
   "outputs": [],
   "source": [
    "x_test = scaler.transform(x_test)"
   ]
  },
  {
   "cell_type": "code",
   "execution_count": 49,
   "metadata": {},
   "outputs": [
    {
     "data": {
      "text/plain": [
       "array([[ 2.77655132e-01,  4.41666667e-01,  4.59151680e-01,\n",
       "        -2.80293224e+00,  7.39398930e-01,  4.23908436e-01],\n",
       "       [ 2.94337461e-01,  5.55555556e-01,  4.59151680e-01,\n",
       "        -2.80293224e+00,  7.53121998e-01,  3.81517592e-01],\n",
       "       [ 3.77749109e-01,  4.97222222e-01,  4.59151680e-01,\n",
       "        -2.80293224e+00,  4.64937560e-01,  3.72615515e-01],\n",
       "       [-3.83693579e-04,  0.00000000e+00, -1.03270650e+00,\n",
       "        -9.44355322e-01,  3.96322218e-01,  0.00000000e+00],\n",
       "       [-3.83693579e-04,  0.00000000e+00, -1.03270650e+00,\n",
       "        -9.44355322e-01,  3.96322218e-01,  0.00000000e+00],\n",
       "       [-3.83693579e-04,  0.00000000e+00, -1.03270650e+00,\n",
       "        -9.44355322e-01,  3.96322218e-01,  0.00000000e+00]])"
      ]
     },
     "execution_count": 49,
     "metadata": {},
     "output_type": "execute_result"
    }
   ],
   "source": [
    "x_test"
   ]
  },
  {
   "cell_type": "code",
   "execution_count": 50,
   "metadata": {},
   "outputs": [
    {
     "data": {
      "text/plain": [
       "array([ 539.1877 ,  543.45056,  267.92047, -542.5624 , -542.5624 ,\n",
       "       -542.5624 ], dtype=float32)"
      ]
     },
     "execution_count": 50,
     "metadata": {},
     "output_type": "execute_result"
    }
   ],
   "source": [
    "clf.predict(x_test)"
   ]
  },
  {
   "cell_type": "code",
   "execution_count": 55,
   "metadata": {},
   "outputs": [
    {
     "data": {
      "text/plain": [
       "Index(['Zenith Angle [degrees]', 'Azimuth Angle [degrees]', 'Latitude [deg]',\n",
       "       'Longitude [deg]', 'Temp [deg C]', 'Minutes',\n",
       "       'Direct Irradiance [W/m^2]', 'Global Irradiance [W/m^2]'],\n",
       "      dtype='object')"
      ]
     },
     "execution_count": 55,
     "metadata": {},
     "output_type": "execute_result"
    }
   ],
   "source": [
    "data.columns"
   ]
  }
 ],
 "metadata": {
  "kernelspec": {
   "display_name": "Python 3",
   "language": "python",
   "name": "python3"
  },
  "language_info": {
   "codemirror_mode": {
    "name": "ipython",
    "version": 3
   },
   "file_extension": ".py",
   "mimetype": "text/x-python",
   "name": "python",
   "nbconvert_exporter": "python",
   "pygments_lexer": "ipython3",
   "version": "3.6.7"
  }
 },
 "nbformat": 4,
 "nbformat_minor": 2
}
