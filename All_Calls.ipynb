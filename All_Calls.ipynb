{
 "cells": [
  {
   "cell_type": "markdown",
   "metadata": {},
   "source": [
    "<h2> All Calls </h2>"
   ]
  },
  {
   "cell_type": "markdown",
   "metadata": {},
   "source": [
    "This module will collect additional information and build a feature set to call the W/m^2 model with.  Three seperate calls will be needed and the minutes will be easily engineered.\n",
    "\n",
    "each call will handle 24 hours worth of data and can be chained to collect larger timeframes."
   ]
  },
  {
   "cell_type": "code",
   "execution_count": 694,
   "metadata": {},
   "outputs": [],
   "source": [
    "import requests\n",
    "import numpy as np\n",
    "import json\n",
    "import pandas as pd\n",
    "import datetime\n",
    "%store -r"
   ]
  },
  {
   "cell_type": "code",
   "execution_count": 695,
   "metadata": {},
   "outputs": [],
   "source": [
    "# dictionary form\n",
    "\n",
    "def clear_cache():\n",
    "    '''\n",
    "    optional function to be used to reset the stored data.\n",
    "    '''\n",
    "    results = {'Zenith Angle [degrees]': [], 'Azimuth Angle [degrees]': [], \n",
    "           'Latitude [deg]': [], 'Longitude [deg]': [], 'Temp [deg C]': [], \n",
    "           'Minutes': []}\n",
    "    return results\n",
    "\n",
    "results = clear_cache()\n"
   ]
  },
  {
   "cell_type": "code",
   "execution_count": 816,
   "metadata": {},
   "outputs": [
    {
     "data": {
      "text/html": [
       "<div>\n",
       "<style scoped>\n",
       "    .dataframe tbody tr th:only-of-type {\n",
       "        vertical-align: middle;\n",
       "    }\n",
       "\n",
       "    .dataframe tbody tr th {\n",
       "        vertical-align: top;\n",
       "    }\n",
       "\n",
       "    .dataframe thead th {\n",
       "        text-align: right;\n",
       "    }\n",
       "</style>\n",
       "<table border=\"1\" class=\"dataframe\">\n",
       "  <thead>\n",
       "    <tr style=\"text-align: right;\">\n",
       "      <th></th>\n",
       "      <th>Zenith Angle [degrees]</th>\n",
       "      <th>Azimuth Angle [degrees]</th>\n",
       "      <th>Latitude [deg]</th>\n",
       "      <th>Longitude [deg]</th>\n",
       "      <th>Temp [deg C]</th>\n",
       "      <th>Minutes</th>\n",
       "      <th>Time Index</th>\n",
       "    </tr>\n",
       "  </thead>\n",
       "  <tbody>\n",
       "    <tr>\n",
       "      <th>0</th>\n",
       "      <td>NaN</td>\n",
       "      <td>NaN</td>\n",
       "      <td>NaN</td>\n",
       "      <td>NaN</td>\n",
       "      <td>NaN</td>\n",
       "      <td>NaN</td>\n",
       "      <td>NaN</td>\n",
       "    </tr>\n",
       "    <tr>\n",
       "      <th>1</th>\n",
       "      <td>NaN</td>\n",
       "      <td>NaN</td>\n",
       "      <td>NaN</td>\n",
       "      <td>NaN</td>\n",
       "      <td>NaN</td>\n",
       "      <td>NaN</td>\n",
       "      <td>NaN</td>\n",
       "    </tr>\n",
       "    <tr>\n",
       "      <th>2</th>\n",
       "      <td>NaN</td>\n",
       "      <td>NaN</td>\n",
       "      <td>NaN</td>\n",
       "      <td>NaN</td>\n",
       "      <td>NaN</td>\n",
       "      <td>NaN</td>\n",
       "      <td>NaN</td>\n",
       "    </tr>\n",
       "    <tr>\n",
       "      <th>3</th>\n",
       "      <td>NaN</td>\n",
       "      <td>NaN</td>\n",
       "      <td>NaN</td>\n",
       "      <td>NaN</td>\n",
       "      <td>NaN</td>\n",
       "      <td>NaN</td>\n",
       "      <td>NaN</td>\n",
       "    </tr>\n",
       "    <tr>\n",
       "      <th>4</th>\n",
       "      <td>NaN</td>\n",
       "      <td>NaN</td>\n",
       "      <td>NaN</td>\n",
       "      <td>NaN</td>\n",
       "      <td>NaN</td>\n",
       "      <td>NaN</td>\n",
       "      <td>NaN</td>\n",
       "    </tr>\n",
       "  </tbody>\n",
       "</table>\n",
       "</div>"
      ],
      "text/plain": [
       "  Zenith Angle [degrees] Azimuth Angle [degrees] Latitude [deg]  \\\n",
       "0                    NaN                     NaN            NaN   \n",
       "1                    NaN                     NaN            NaN   \n",
       "2                    NaN                     NaN            NaN   \n",
       "3                    NaN                     NaN            NaN   \n",
       "4                    NaN                     NaN            NaN   \n",
       "\n",
       "  Longitude [deg] Temp [deg C] Minutes Time Index  \n",
       "0             NaN          NaN     NaN        NaN  \n",
       "1             NaN          NaN     NaN        NaN  \n",
       "2             NaN          NaN     NaN        NaN  \n",
       "3             NaN          NaN     NaN        NaN  \n",
       "4             NaN          NaN     NaN        NaN  "
      ]
     },
     "execution_count": 816,
     "metadata": {},
     "output_type": "execute_result"
    }
   ],
   "source": [
    "#  df form\n",
    "\n",
    "def clear_cache():\n",
    "    '''\n",
    "    optional function to be used to reset the stored data.\n",
    "    '''\n",
    "    results = pd.DataFrame(columns = ['Zenith Angle [degrees]', 'Azimuth Angle [degrees]', 'Latitude [deg]',\n",
    "       'Longitude [deg]', 'Temp [deg C]', 'Minutes', 'Time Index'], index=range(96))\n",
    "    return results\n",
    "\n",
    "results = clear_cache()\n",
    "results.head()"
   ]
  },
  {
   "cell_type": "markdown",
   "metadata": {},
   "source": [
    "<h3> Time Helper Functions </h3>"
   ]
  },
  {
   "cell_type": "code",
   "execution_count": 697,
   "metadata": {},
   "outputs": [],
   "source": [
    "def get_time(user_input = None):\n",
    "    '''\n",
    "    gets time in the right formats for our calls\n",
    "    outputs are in strings\n",
    "    user_input takes a user input rather than the current time\n",
    "    \n",
    "    '''\n",
    "    if user_input:\n",
    "        #    will expect a 'sol' format datefield string  mm/dd/yyyy\n",
    "        units = user_input.split('/')\n",
    "    else:\n",
    "        current_time = datetime.datetime.now()\n",
    "        units = [current_time.year, current_time.month, \n",
    "                 current_time.day, current_time.hour, \n",
    "                 current_time.minute]\n",
    "    time_list = []\n",
    "    for unit in units:\n",
    "        if unit < 10:\n",
    "            unit = '0' + str(unit)\n",
    "        time_list.append(unit)\n",
    "    return time_list\n",
    "\n",
    "def convert_time(time_list, sol = True):\n",
    "    '''\n",
    "    turns the time_list into the correct format for specific calls\n",
    "    if sol, format for solortopo.  if not, format for darksky\n",
    "    returns a string\n",
    "    '''\n",
    "    time = (f'{time_list[3]}:{time_list[4]}:00')\n",
    "    if sol:\n",
    "        solartopo_date = (f'{time_list[2]-1}/{time_list[1]}/{time_list[0]}')\n",
    "        return solartopo_date, time\n",
    "    else:\n",
    "        darksky_date = (f'{time_list[0]}-{time_list[1]}-{time_list[2]-1}')\n",
    "        return darksky_date, time\n",
    "    \n",
    "def get_next_day(dates):\n",
    "    '''\n",
    "    time is relative, add a day.\n",
    "    accepts sol format\n",
    "    '''\n",
    "    split = dates.split('/')\n",
    "    integers = [int(x) for x in split]\n",
    "    integers[0] += 1\n",
    "    string = '/'.join(str(num) for num in integers)\n",
    "    return string\n",
    "\n",
    "def convert_minutes(time, forward = False, seconds = True):\n",
    "    '''\n",
    "    function takes a military time clock reading eg 14:26 string \n",
    "    and converts it to minutes only and vice versa to the seconds \n",
    "    '''\n",
    "    if (forward == False) & (seconds == True):\n",
    "        minutes = time//60\n",
    "        seconds = time%60\n",
    "        hours = minutes//60\n",
    "        minutes = hours%60\n",
    "        converted = str(hours) + ':' + str(minutes) + \":\" +  str(seconds)\n",
    "    elif (forward == False) & (seconds == False):\n",
    "        hours = time//60\n",
    "        minutes = time%60\n",
    "        converted = str(hours) + ':' + str(minutes)\n",
    "    else:\n",
    "        converted = (int(time.split(':')[0]) * 60) + (int(time.split(':')[1]))\n",
    "    # missing conditional forward:True seconds:True currently returns the above condition\n",
    "    return converted"
   ]
  },
  {
   "cell_type": "markdown",
   "metadata": {},
   "source": [
    "<h3> Minutes </h3>\n",
    "\n",
    "Create minutes from thin air"
   ]
  },
  {
   "cell_type": "code",
   "execution_count": 698,
   "metadata": {},
   "outputs": [],
   "source": [
    "def get_minutes(df):\n",
    "    for i in range(96):\n",
    "        df.loc[i]['Minutes'] = i*15\n",
    "#     df.set_index('Minutes')\n",
    "    return df\n",
    "\n",
    "# d = df[[p, p.team, p.passing_att, p.passer_rating()] for p in game.players.passing()]"
   ]
  },
  {
   "cell_type": "code",
   "execution_count": 817,
   "metadata": {},
   "outputs": [],
   "source": [
    "results = get_minutes(results)"
   ]
  },
  {
   "cell_type": "code",
   "execution_count": 818,
   "metadata": {},
   "outputs": [
    {
     "data": {
      "text/html": [
       "<div>\n",
       "<style scoped>\n",
       "    .dataframe tbody tr th:only-of-type {\n",
       "        vertical-align: middle;\n",
       "    }\n",
       "\n",
       "    .dataframe tbody tr th {\n",
       "        vertical-align: top;\n",
       "    }\n",
       "\n",
       "    .dataframe thead th {\n",
       "        text-align: right;\n",
       "    }\n",
       "</style>\n",
       "<table border=\"1\" class=\"dataframe\">\n",
       "  <thead>\n",
       "    <tr style=\"text-align: right;\">\n",
       "      <th></th>\n",
       "      <th>Zenith Angle [degrees]</th>\n",
       "      <th>Azimuth Angle [degrees]</th>\n",
       "      <th>Latitude [deg]</th>\n",
       "      <th>Longitude [deg]</th>\n",
       "      <th>Temp [deg C]</th>\n",
       "      <th>Minutes</th>\n",
       "      <th>Time Index</th>\n",
       "    </tr>\n",
       "  </thead>\n",
       "  <tbody>\n",
       "    <tr>\n",
       "      <th>0</th>\n",
       "      <td>NaN</td>\n",
       "      <td>NaN</td>\n",
       "      <td>NaN</td>\n",
       "      <td>NaN</td>\n",
       "      <td>NaN</td>\n",
       "      <td>0</td>\n",
       "      <td>NaN</td>\n",
       "    </tr>\n",
       "    <tr>\n",
       "      <th>1</th>\n",
       "      <td>NaN</td>\n",
       "      <td>NaN</td>\n",
       "      <td>NaN</td>\n",
       "      <td>NaN</td>\n",
       "      <td>NaN</td>\n",
       "      <td>15</td>\n",
       "      <td>NaN</td>\n",
       "    </tr>\n",
       "    <tr>\n",
       "      <th>2</th>\n",
       "      <td>NaN</td>\n",
       "      <td>NaN</td>\n",
       "      <td>NaN</td>\n",
       "      <td>NaN</td>\n",
       "      <td>NaN</td>\n",
       "      <td>30</td>\n",
       "      <td>NaN</td>\n",
       "    </tr>\n",
       "    <tr>\n",
       "      <th>3</th>\n",
       "      <td>NaN</td>\n",
       "      <td>NaN</td>\n",
       "      <td>NaN</td>\n",
       "      <td>NaN</td>\n",
       "      <td>NaN</td>\n",
       "      <td>45</td>\n",
       "      <td>NaN</td>\n",
       "    </tr>\n",
       "    <tr>\n",
       "      <th>4</th>\n",
       "      <td>NaN</td>\n",
       "      <td>NaN</td>\n",
       "      <td>NaN</td>\n",
       "      <td>NaN</td>\n",
       "      <td>NaN</td>\n",
       "      <td>60</td>\n",
       "      <td>NaN</td>\n",
       "    </tr>\n",
       "  </tbody>\n",
       "</table>\n",
       "</div>"
      ],
      "text/plain": [
       "  Zenith Angle [degrees] Azimuth Angle [degrees] Latitude [deg]  \\\n",
       "0                    NaN                     NaN            NaN   \n",
       "1                    NaN                     NaN            NaN   \n",
       "2                    NaN                     NaN            NaN   \n",
       "3                    NaN                     NaN            NaN   \n",
       "4                    NaN                     NaN            NaN   \n",
       "\n",
       "  Longitude [deg] Temp [deg C] Minutes Time Index  \n",
       "0             NaN          NaN       0        NaN  \n",
       "1             NaN          NaN      15        NaN  \n",
       "2             NaN          NaN      30        NaN  \n",
       "3             NaN          NaN      45        NaN  \n",
       "4             NaN          NaN      60        NaN  "
      ]
     },
     "execution_count": 818,
     "metadata": {},
     "output_type": "execute_result"
    }
   ],
   "source": [
    "results.head()"
   ]
  },
  {
   "cell_type": "markdown",
   "metadata": {},
   "source": [
    "<h3> Geocoder </h3>\n",
    "\n",
    "Given a zipcode find latitude and longitude."
   ]
  },
  {
   "cell_type": "code",
   "execution_count": 701,
   "metadata": {},
   "outputs": [],
   "source": [
    "# string formatting notes - user inputs hardcoded for debugging\n",
    "\n",
    "location = '10196 west texas place, lakewood co, 80232'\n",
    "numbers = [int(s) for s in location.split() if s.isdigit()]\n",
    "# place_name = [str(s) for s in location.split() if not s.isdiget()]\n",
    "# numbers = map(str, postal_code)\n",
    "postal_code = str(postal_code[-1])\n"
   ]
  },
  {
   "cell_type": "code",
   "execution_count": 702,
   "metadata": {},
   "outputs": [
    {
     "name": "stdout",
     "output_type": "stream",
     "text": [
      "[10196, 80232]\n"
     ]
    }
   ],
   "source": [
    "print(numbers)"
   ]
  },
  {
   "cell_type": "code",
   "execution_count": 703,
   "metadata": {},
   "outputs": [],
   "source": [
    "def get_coordinates(location, df):\n",
    "    '''\n",
    "    gets specific geometric location given a fuzzy address using OpenCage Geocoder.\n",
    "    accepts a string address\n",
    "    outputs latitude and longitude\n",
    "    '''\n",
    "    from opencage.geocoder import OpenCageGeocode\n",
    "    \n",
    "    postal_code = [int(s) for s in location.split() if s.isdigit()]\n",
    "    # place_name = [str(s) for s in location.split() if not s.isdiget()]\n",
    "    numbers = str(postal_code)\n",
    "    \n",
    "    geocoder = api_keys['open_cage_key'][0]\n",
    "    geocoder = OpenCageGeocode(geocoder)\n",
    "\n",
    "    locate = geocoder.geocode(location)\n",
    "    # returns the following\n",
    "    # [{'components': {'city': 'Bordeaux',\n",
    "    #                  'country': 'France',\n",
    "    #                  'country_code': 'fr',\n",
    "    #                  'county': 'Bordeaux',\n",
    "    #                  'house_number': '11',\n",
    "    #                  'political_union': 'European Union',\n",
    "    #                  'postcode': '33800',\n",
    "    #                  'road': 'Rue Sauteyron',\n",
    "    #                  'state': 'New Aquitaine',\n",
    "    #                  'suburb': 'Bordeaux Sud'},\n",
    "    #   'formatted': '11 Rue Sauteyron, 33800 Bordeaux, France',\n",
    "    #   'geometry': {'lat': 44.8303087, 'lng': -0.5761911}}]\n",
    "\n",
    "    geometry = locate[0]['geometry']\n",
    "    lat_long = list(geometry.values())\n",
    "    lat = lat_long[0]\n",
    "    long = lat_long[1]\n",
    "    # appends 1 reading for every hour in the day\n",
    "    for i in range(96):\n",
    "#             results['Latitude [deg]'].append(lat)\n",
    "#             results['Longitude [deg]'].append(long)\n",
    "            df['Latitude [deg]'] = lat\n",
    "            df['Longitude [deg]'] = long"
   ]
  },
  {
   "cell_type": "code",
   "execution_count": 819,
   "metadata": {},
   "outputs": [],
   "source": [
    "get_coordinates(location, results)"
   ]
  },
  {
   "cell_type": "code",
   "execution_count": 828,
   "metadata": {},
   "outputs": [
    {
     "data": {
      "text/html": [
       "<div>\n",
       "<style scoped>\n",
       "    .dataframe tbody tr th:only-of-type {\n",
       "        vertical-align: middle;\n",
       "    }\n",
       "\n",
       "    .dataframe tbody tr th {\n",
       "        vertical-align: top;\n",
       "    }\n",
       "\n",
       "    .dataframe thead th {\n",
       "        text-align: right;\n",
       "    }\n",
       "</style>\n",
       "<table border=\"1\" class=\"dataframe\">\n",
       "  <thead>\n",
       "    <tr style=\"text-align: right;\">\n",
       "      <th></th>\n",
       "      <th>Zenith Angle [degrees]</th>\n",
       "      <th>Azimuth Angle [degrees]</th>\n",
       "      <th>Latitude [deg]</th>\n",
       "      <th>Longitude [deg]</th>\n",
       "      <th>Temp [deg C]</th>\n",
       "      <th>Minutes</th>\n",
       "      <th>Time Index</th>\n",
       "    </tr>\n",
       "  </thead>\n",
       "  <tbody>\n",
       "    <tr>\n",
       "      <th>0</th>\n",
       "      <td>NaN</td>\n",
       "      <td>NaN</td>\n",
       "      <td>39.695883</td>\n",
       "      <td>-105.110853</td>\n",
       "      <td>25.955556</td>\n",
       "      <td>0</td>\n",
       "      <td>1566799200</td>\n",
       "    </tr>\n",
       "    <tr>\n",
       "      <th>1</th>\n",
       "      <td>NaN</td>\n",
       "      <td>NaN</td>\n",
       "      <td>39.695883</td>\n",
       "      <td>-105.110853</td>\n",
       "      <td>25.955556</td>\n",
       "      <td>15</td>\n",
       "      <td>1566800100</td>\n",
       "    </tr>\n",
       "    <tr>\n",
       "      <th>2</th>\n",
       "      <td>NaN</td>\n",
       "      <td>NaN</td>\n",
       "      <td>39.695883</td>\n",
       "      <td>-105.110853</td>\n",
       "      <td>25.955556</td>\n",
       "      <td>30</td>\n",
       "      <td>NaN</td>\n",
       "    </tr>\n",
       "    <tr>\n",
       "      <th>3</th>\n",
       "      <td>NaN</td>\n",
       "      <td>NaN</td>\n",
       "      <td>39.695883</td>\n",
       "      <td>-105.110853</td>\n",
       "      <td>25.955556</td>\n",
       "      <td>45</td>\n",
       "      <td>NaN</td>\n",
       "    </tr>\n",
       "    <tr>\n",
       "      <th>4</th>\n",
       "      <td>NaN</td>\n",
       "      <td>NaN</td>\n",
       "      <td>39.695883</td>\n",
       "      <td>-105.110853</td>\n",
       "      <td>26.400000</td>\n",
       "      <td>60</td>\n",
       "      <td>1566802800</td>\n",
       "    </tr>\n",
       "  </tbody>\n",
       "</table>\n",
       "</div>"
      ],
      "text/plain": [
       "  Zenith Angle [degrees] Azimuth Angle [degrees]  Latitude [deg]  \\\n",
       "0                    NaN                     NaN       39.695883   \n",
       "1                    NaN                     NaN       39.695883   \n",
       "2                    NaN                     NaN       39.695883   \n",
       "3                    NaN                     NaN       39.695883   \n",
       "4                    NaN                     NaN       39.695883   \n",
       "\n",
       "   Longitude [deg]  Temp [deg C] Minutes  Time Index  \n",
       "0      -105.110853     25.955556       0  1566799200  \n",
       "1      -105.110853     25.955556      15  1566800100  \n",
       "2      -105.110853     25.955556      30         NaN  \n",
       "3      -105.110853     25.955556      45         NaN  \n",
       "4      -105.110853     26.400000      60  1566802800  "
      ]
     },
     "execution_count": 828,
     "metadata": {},
     "output_type": "execute_result"
    }
   ],
   "source": [
    "results.head()"
   ]
  },
  {
   "cell_type": "markdown",
   "metadata": {},
   "source": [
    "<h3> Temp </h3>\n",
    "\n",
    "Given latitude and longitude find tempurature."
   ]
  },
  {
   "cell_type": "code",
   "execution_count": 706,
   "metadata": {},
   "outputs": [],
   "source": [
    "time_list = get_time()\n",
    "dark, time = convert_time(time_list, sol=False)"
   ]
  },
  {
   "cell_type": "code",
   "execution_count": 707,
   "metadata": {},
   "outputs": [
    {
     "name": "stdout",
     "output_type": "stream",
     "text": [
      "2019-08-26 12:23:00\n"
     ]
    }
   ],
   "source": [
    "print(dark, time)"
   ]
  },
  {
   "cell_type": "code",
   "execution_count": 708,
   "metadata": {},
   "outputs": [],
   "source": [
    "def temp_converter(temp, f_to_c=True):\n",
    "    '''\n",
    "    helper function\n",
    "    converts an integer or float to degrees celcius\n",
    "    or vice verse\n",
    "    '''\n",
    "    if f_to_c:\n",
    "        new_temp = (temp - 32) * 5/9\n",
    "    else:\n",
    "        new_temp = (temp * 5/9) + 32\n",
    "    return new_temp"
   ]
  },
  {
   "cell_type": "code",
   "execution_count": 847,
   "metadata": {},
   "outputs": [],
   "source": [
    "def get_temp_log_daylight(df):\n",
    "    darksky = api_keys[\"darksky_key\"][0]\n",
    "    lat = results['Latitude [deg]'][0]\n",
    "    long = results['Longitude [deg]'][0]\n",
    "\n",
    "    darkSky = requests.get(f\"https://api.darksky.net/forecast/{darksky}/{lat},{long},{dark}T{time}?exclude=flags,alerts, currently\")\n",
    "    darkSky.status_code == requests.codes.ok\n",
    "    print(f'{darkSky.status_code == requests.codes.ok}')\n",
    "    darkSky_call = darkSky.json()\n",
    "    \n",
    "    #     darkSky_call['hourly']['data'][0][] = 24 temp readings on the hour every hour and front fill\n",
    "    for i in range(24):\n",
    "        temp = (temp_converter(float(darkSky_call['hourly']['data'][i]['temperature'])))\n",
    "        df['Temp [deg C]'].iloc[lambda x: x.index == i*4] = temp\n",
    "    df['Temp [deg C]'].ffill(inplace = True)\n",
    "    \n",
    "    # using hourly temp data to fill every 15 minute interval\n",
    "    datetime = darkSky_call['hourly']['data'][0]['time']\n",
    "    df['Time Index'].iloc[0] = datetime\n",
    "    for i in range(1,96):\n",
    "        results['Time Index'].iloc[i] = results['Time Index'].iloc[i-1] + 900\n",
    "\n",
    "    \n",
    "    # sunrise and sunset times will be helpful in handling solar data\n",
    "    \n",
    "    sunrise = (darkSky_call['daily']['data'][0]['sunriseTime'] -  darkSky_call['hourly']['data'][0]['time'])\n",
    "    sunrise = convert_minutes(sunrise, forward=False)\n",
    "    sunset = (darkSky_call['daily']['data'][0]['sunsetTime'] -  darkSky_call['hourly']['data'][0]['time'])\n",
    "    sunset = convert_minutes(sunset, forward=False)\n",
    "    \n",
    "    return sunrise, sunset, df"
   ]
  },
  {
   "cell_type": "code",
   "execution_count": 850,
   "metadata": {},
   "outputs": [
    {
     "name": "stdout",
     "output_type": "stream",
     "text": [
      "True\n"
     ]
    },
    {
     "name": "stderr",
     "output_type": "stream",
     "text": [
      "C:\\Users\\Mark\\AppData\\Local\\Continuum\\anaconda3\\lib\\site-packages\\pandas\\core\\indexing.py:190: SettingWithCopyWarning: \n",
      "A value is trying to be set on a copy of a slice from a DataFrame\n",
      "\n",
      "See the caveats in the documentation: http://pandas.pydata.org/pandas-docs/stable/indexing.html#indexing-view-versus-copy\n",
      "  self._setitem_with_indexer(indexer, value)\n",
      "C:\\Users\\Mark\\AppData\\Local\\Continuum\\anaconda3\\lib\\site-packages\\pandas\\core\\indexing.py:190: SettingWithCopyWarning: \n",
      "A value is trying to be set on a copy of a slice from a DataFrame\n",
      "\n",
      "See the caveats in the documentation: http://pandas.pydata.org/pandas-docs/stable/indexing.html#indexing-view-versus-copy\n",
      "  self._setitem_with_indexer(indexer, value)\n",
      "C:\\Users\\Mark\\AppData\\Local\\Continuum\\anaconda3\\lib\\site-packages\\pandas\\core\\indexing.py:190: SettingWithCopyWarning: \n",
      "A value is trying to be set on a copy of a slice from a DataFrame\n",
      "\n",
      "See the caveats in the documentation: http://pandas.pydata.org/pandas-docs/stable/indexing.html#indexing-view-versus-copy\n",
      "  self._setitem_with_indexer(indexer, value)\n",
      "C:\\Users\\Mark\\AppData\\Local\\Continuum\\anaconda3\\lib\\site-packages\\pandas\\core\\indexing.py:190: SettingWithCopyWarning: \n",
      "A value is trying to be set on a copy of a slice from a DataFrame\n",
      "\n",
      "See the caveats in the documentation: http://pandas.pydata.org/pandas-docs/stable/indexing.html#indexing-view-versus-copy\n",
      "  self._setitem_with_indexer(indexer, value)\n",
      "C:\\Users\\Mark\\AppData\\Local\\Continuum\\anaconda3\\lib\\site-packages\\pandas\\core\\indexing.py:190: SettingWithCopyWarning: \n",
      "A value is trying to be set on a copy of a slice from a DataFrame\n",
      "\n",
      "See the caveats in the documentation: http://pandas.pydata.org/pandas-docs/stable/indexing.html#indexing-view-versus-copy\n",
      "  self._setitem_with_indexer(indexer, value)\n",
      "C:\\Users\\Mark\\AppData\\Local\\Continuum\\anaconda3\\lib\\site-packages\\pandas\\core\\indexing.py:190: SettingWithCopyWarning: \n",
      "A value is trying to be set on a copy of a slice from a DataFrame\n",
      "\n",
      "See the caveats in the documentation: http://pandas.pydata.org/pandas-docs/stable/indexing.html#indexing-view-versus-copy\n",
      "  self._setitem_with_indexer(indexer, value)\n",
      "C:\\Users\\Mark\\AppData\\Local\\Continuum\\anaconda3\\lib\\site-packages\\pandas\\core\\indexing.py:190: SettingWithCopyWarning: \n",
      "A value is trying to be set on a copy of a slice from a DataFrame\n",
      "\n",
      "See the caveats in the documentation: http://pandas.pydata.org/pandas-docs/stable/indexing.html#indexing-view-versus-copy\n",
      "  self._setitem_with_indexer(indexer, value)\n",
      "C:\\Users\\Mark\\AppData\\Local\\Continuum\\anaconda3\\lib\\site-packages\\pandas\\core\\indexing.py:190: SettingWithCopyWarning: \n",
      "A value is trying to be set on a copy of a slice from a DataFrame\n",
      "\n",
      "See the caveats in the documentation: http://pandas.pydata.org/pandas-docs/stable/indexing.html#indexing-view-versus-copy\n",
      "  self._setitem_with_indexer(indexer, value)\n",
      "C:\\Users\\Mark\\AppData\\Local\\Continuum\\anaconda3\\lib\\site-packages\\pandas\\core\\indexing.py:190: SettingWithCopyWarning: \n",
      "A value is trying to be set on a copy of a slice from a DataFrame\n",
      "\n",
      "See the caveats in the documentation: http://pandas.pydata.org/pandas-docs/stable/indexing.html#indexing-view-versus-copy\n",
      "  self._setitem_with_indexer(indexer, value)\n",
      "C:\\Users\\Mark\\AppData\\Local\\Continuum\\anaconda3\\lib\\site-packages\\pandas\\core\\indexing.py:190: SettingWithCopyWarning: \n",
      "A value is trying to be set on a copy of a slice from a DataFrame\n",
      "\n",
      "See the caveats in the documentation: http://pandas.pydata.org/pandas-docs/stable/indexing.html#indexing-view-versus-copy\n",
      "  self._setitem_with_indexer(indexer, value)\n",
      "C:\\Users\\Mark\\AppData\\Local\\Continuum\\anaconda3\\lib\\site-packages\\pandas\\core\\indexing.py:190: SettingWithCopyWarning: \n",
      "A value is trying to be set on a copy of a slice from a DataFrame\n",
      "\n",
      "See the caveats in the documentation: http://pandas.pydata.org/pandas-docs/stable/indexing.html#indexing-view-versus-copy\n",
      "  self._setitem_with_indexer(indexer, value)\n",
      "C:\\Users\\Mark\\AppData\\Local\\Continuum\\anaconda3\\lib\\site-packages\\pandas\\core\\indexing.py:190: SettingWithCopyWarning: \n",
      "A value is trying to be set on a copy of a slice from a DataFrame\n",
      "\n",
      "See the caveats in the documentation: http://pandas.pydata.org/pandas-docs/stable/indexing.html#indexing-view-versus-copy\n",
      "  self._setitem_with_indexer(indexer, value)\n",
      "C:\\Users\\Mark\\AppData\\Local\\Continuum\\anaconda3\\lib\\site-packages\\pandas\\core\\indexing.py:190: SettingWithCopyWarning: \n",
      "A value is trying to be set on a copy of a slice from a DataFrame\n",
      "\n",
      "See the caveats in the documentation: http://pandas.pydata.org/pandas-docs/stable/indexing.html#indexing-view-versus-copy\n",
      "  self._setitem_with_indexer(indexer, value)\n",
      "C:\\Users\\Mark\\AppData\\Local\\Continuum\\anaconda3\\lib\\site-packages\\pandas\\core\\indexing.py:190: SettingWithCopyWarning: \n",
      "A value is trying to be set on a copy of a slice from a DataFrame\n",
      "\n",
      "See the caveats in the documentation: http://pandas.pydata.org/pandas-docs/stable/indexing.html#indexing-view-versus-copy\n",
      "  self._setitem_with_indexer(indexer, value)\n",
      "C:\\Users\\Mark\\AppData\\Local\\Continuum\\anaconda3\\lib\\site-packages\\pandas\\core\\indexing.py:190: SettingWithCopyWarning: \n",
      "A value is trying to be set on a copy of a slice from a DataFrame\n",
      "\n",
      "See the caveats in the documentation: http://pandas.pydata.org/pandas-docs/stable/indexing.html#indexing-view-versus-copy\n",
      "  self._setitem_with_indexer(indexer, value)\n",
      "C:\\Users\\Mark\\AppData\\Local\\Continuum\\anaconda3\\lib\\site-packages\\pandas\\core\\indexing.py:190: SettingWithCopyWarning: \n",
      "A value is trying to be set on a copy of a slice from a DataFrame\n",
      "\n",
      "See the caveats in the documentation: http://pandas.pydata.org/pandas-docs/stable/indexing.html#indexing-view-versus-copy\n",
      "  self._setitem_with_indexer(indexer, value)\n",
      "C:\\Users\\Mark\\AppData\\Local\\Continuum\\anaconda3\\lib\\site-packages\\pandas\\core\\indexing.py:190: SettingWithCopyWarning: \n",
      "A value is trying to be set on a copy of a slice from a DataFrame\n",
      "\n",
      "See the caveats in the documentation: http://pandas.pydata.org/pandas-docs/stable/indexing.html#indexing-view-versus-copy\n",
      "  self._setitem_with_indexer(indexer, value)\n",
      "C:\\Users\\Mark\\AppData\\Local\\Continuum\\anaconda3\\lib\\site-packages\\pandas\\core\\indexing.py:190: SettingWithCopyWarning: \n",
      "A value is trying to be set on a copy of a slice from a DataFrame\n",
      "\n",
      "See the caveats in the documentation: http://pandas.pydata.org/pandas-docs/stable/indexing.html#indexing-view-versus-copy\n",
      "  self._setitem_with_indexer(indexer, value)\n",
      "C:\\Users\\Mark\\AppData\\Local\\Continuum\\anaconda3\\lib\\site-packages\\pandas\\core\\indexing.py:190: SettingWithCopyWarning: \n",
      "A value is trying to be set on a copy of a slice from a DataFrame\n",
      "\n",
      "See the caveats in the documentation: http://pandas.pydata.org/pandas-docs/stable/indexing.html#indexing-view-versus-copy\n",
      "  self._setitem_with_indexer(indexer, value)\n",
      "C:\\Users\\Mark\\AppData\\Local\\Continuum\\anaconda3\\lib\\site-packages\\pandas\\core\\indexing.py:190: SettingWithCopyWarning: \n",
      "A value is trying to be set on a copy of a slice from a DataFrame\n",
      "\n",
      "See the caveats in the documentation: http://pandas.pydata.org/pandas-docs/stable/indexing.html#indexing-view-versus-copy\n",
      "  self._setitem_with_indexer(indexer, value)\n",
      "C:\\Users\\Mark\\AppData\\Local\\Continuum\\anaconda3\\lib\\site-packages\\pandas\\core\\indexing.py:190: SettingWithCopyWarning: \n",
      "A value is trying to be set on a copy of a slice from a DataFrame\n",
      "\n",
      "See the caveats in the documentation: http://pandas.pydata.org/pandas-docs/stable/indexing.html#indexing-view-versus-copy\n",
      "  self._setitem_with_indexer(indexer, value)\n",
      "C:\\Users\\Mark\\AppData\\Local\\Continuum\\anaconda3\\lib\\site-packages\\pandas\\core\\indexing.py:190: SettingWithCopyWarning: \n",
      "A value is trying to be set on a copy of a slice from a DataFrame\n",
      "\n",
      "See the caveats in the documentation: http://pandas.pydata.org/pandas-docs/stable/indexing.html#indexing-view-versus-copy\n",
      "  self._setitem_with_indexer(indexer, value)\n",
      "C:\\Users\\Mark\\AppData\\Local\\Continuum\\anaconda3\\lib\\site-packages\\pandas\\core\\indexing.py:190: SettingWithCopyWarning: \n",
      "A value is trying to be set on a copy of a slice from a DataFrame\n",
      "\n",
      "See the caveats in the documentation: http://pandas.pydata.org/pandas-docs/stable/indexing.html#indexing-view-versus-copy\n",
      "  self._setitem_with_indexer(indexer, value)\n",
      "C:\\Users\\Mark\\AppData\\Local\\Continuum\\anaconda3\\lib\\site-packages\\pandas\\core\\indexing.py:190: SettingWithCopyWarning: \n",
      "A value is trying to be set on a copy of a slice from a DataFrame\n",
      "\n",
      "See the caveats in the documentation: http://pandas.pydata.org/pandas-docs/stable/indexing.html#indexing-view-versus-copy\n",
      "  self._setitem_with_indexer(indexer, value)\n"
     ]
    }
   ],
   "source": [
    "sunrise, sunset, results = get_temp_log_daylight(results)"
   ]
  },
  {
   "cell_type": "code",
   "execution_count": 851,
   "metadata": {},
   "outputs": [
    {
     "data": {
      "text/html": [
       "<div>\n",
       "<style scoped>\n",
       "    .dataframe tbody tr th:only-of-type {\n",
       "        vertical-align: middle;\n",
       "    }\n",
       "\n",
       "    .dataframe tbody tr th {\n",
       "        vertical-align: top;\n",
       "    }\n",
       "\n",
       "    .dataframe thead th {\n",
       "        text-align: right;\n",
       "    }\n",
       "</style>\n",
       "<table border=\"1\" class=\"dataframe\">\n",
       "  <thead>\n",
       "    <tr style=\"text-align: right;\">\n",
       "      <th></th>\n",
       "      <th>Zenith Angle [degrees]</th>\n",
       "      <th>Azimuth Angle [degrees]</th>\n",
       "      <th>Latitude [deg]</th>\n",
       "      <th>Longitude [deg]</th>\n",
       "      <th>Temp [deg C]</th>\n",
       "      <th>Time Index</th>\n",
       "    </tr>\n",
       "    <tr>\n",
       "      <th>Minutes</th>\n",
       "      <th></th>\n",
       "      <th></th>\n",
       "      <th></th>\n",
       "      <th></th>\n",
       "      <th></th>\n",
       "      <th></th>\n",
       "    </tr>\n",
       "  </thead>\n",
       "  <tbody>\n",
       "    <tr>\n",
       "      <th>0</th>\n",
       "      <td>NaN</td>\n",
       "      <td>NaN</td>\n",
       "      <td>39.695883</td>\n",
       "      <td>-105.110853</td>\n",
       "      <td>25.955556</td>\n",
       "      <td>1566799200</td>\n",
       "    </tr>\n",
       "    <tr>\n",
       "      <th>15</th>\n",
       "      <td>NaN</td>\n",
       "      <td>NaN</td>\n",
       "      <td>39.695883</td>\n",
       "      <td>-105.110853</td>\n",
       "      <td>25.955556</td>\n",
       "      <td>1566800100</td>\n",
       "    </tr>\n",
       "    <tr>\n",
       "      <th>30</th>\n",
       "      <td>NaN</td>\n",
       "      <td>NaN</td>\n",
       "      <td>39.695883</td>\n",
       "      <td>-105.110853</td>\n",
       "      <td>25.955556</td>\n",
       "      <td>1566801000</td>\n",
       "    </tr>\n",
       "    <tr>\n",
       "      <th>45</th>\n",
       "      <td>NaN</td>\n",
       "      <td>NaN</td>\n",
       "      <td>39.695883</td>\n",
       "      <td>-105.110853</td>\n",
       "      <td>25.955556</td>\n",
       "      <td>1566801900</td>\n",
       "    </tr>\n",
       "    <tr>\n",
       "      <th>60</th>\n",
       "      <td>NaN</td>\n",
       "      <td>NaN</td>\n",
       "      <td>39.695883</td>\n",
       "      <td>-105.110853</td>\n",
       "      <td>24.438889</td>\n",
       "      <td>1566802800</td>\n",
       "    </tr>\n",
       "  </tbody>\n",
       "</table>\n",
       "</div>"
      ],
      "text/plain": [
       "        Zenith Angle [degrees] Azimuth Angle [degrees]  Latitude [deg]  \\\n",
       "Minutes                                                                  \n",
       "0                          NaN                     NaN       39.695883   \n",
       "15                         NaN                     NaN       39.695883   \n",
       "30                         NaN                     NaN       39.695883   \n",
       "45                         NaN                     NaN       39.695883   \n",
       "60                         NaN                     NaN       39.695883   \n",
       "\n",
       "         Longitude [deg]  Temp [deg C]  Time Index  \n",
       "Minutes                                             \n",
       "0            -105.110853     25.955556  1566799200  \n",
       "15           -105.110853     25.955556  1566800100  \n",
       "30           -105.110853     25.955556  1566801000  \n",
       "45           -105.110853     25.955556  1566801900  \n",
       "60           -105.110853     24.438889  1566802800  "
      ]
     },
     "execution_count": 851,
     "metadata": {},
     "output_type": "execute_result"
    }
   ],
   "source": [
    "results.head()"
   ]
  },
  {
   "cell_type": "code",
   "execution_count": 712,
   "metadata": {},
   "outputs": [
    {
     "name": "stdout",
     "output_type": "stream",
     "text": [
      "daylight hours: 6:6:30 - 19:19:0\n"
     ]
    }
   ],
   "source": [
    "print(\"daylight hours:\", sunrise, \"-\", sunset)"
   ]
  },
  {
   "cell_type": "markdown",
   "metadata": {},
   "source": [
    "<h3> Solar Math </h3>\n",
    "\n",
    "Given Latitude and Date find Azimuth and Zenith of the sun.\n",
    "Default date is the day before the current time of the calls"
   ]
  },
  {
   "cell_type": "code",
   "execution_count": 713,
   "metadata": {},
   "outputs": [],
   "source": [
    "from time import sleep, strftime\n",
    "from random import randint\n",
    "import datetime\n",
    "import pandas as pd\n",
    "from selenium import webdriver\n",
    "from selenium.webdriver.common.keys import Keys\n",
    "from bs4 import BeautifulSoup"
   ]
  },
  {
   "cell_type": "markdown",
   "metadata": {},
   "source": [
    "<h4> Sunpath Hit </h4>"
   ]
  },
  {
   "cell_type": "code",
   "execution_count": 714,
   "metadata": {},
   "outputs": [],
   "source": [
    "def get_sunpath(driver):\n",
    "    '''\n",
    "    helper function that retrieves the sunpath data.\n",
    "    '''\n",
    "    zenith = driver.find_element_by_xpath('//*[@id=\"zenith\"]').text\n",
    "    azimuth = driver.find_element_by_xpath('//*[@id=\"azimuth\"]').text\n",
    "    if zenith == '' or azimuth == '':\n",
    "        driver.refresh();\n",
    "    zenith = float(zenith.split('°')[0])\n",
    "    azimuth = float(azimuth.split('°')[0])\n",
    "    print(zenith, azimuth)\n",
    "    return azimuth, zenith"
   ]
  },
  {
   "cell_type": "code",
   "execution_count": 715,
   "metadata": {},
   "outputs": [
    {
     "data": {
      "text/plain": [
       "'26/08/2019'"
      ]
     },
     "execution_count": 715,
     "metadata": {},
     "output_type": "execute_result"
    }
   ],
   "source": [
    "sol, time = convert_time(time_list, sol=True)\n",
    "sol"
   ]
  },
  {
   "cell_type": "code",
   "execution_count": 839,
   "metadata": {},
   "outputs": [],
   "source": [
    "# time_span to be defined by parent function\n",
    "# Change the date in preperation for the next call \n",
    "## will call this outside of function in final so darksky can also update temp/srise sset daily\n",
    "#         if time_span > 1:\n",
    "#             sol = get_next_day(date)\n",
    "\n",
    "def collect_solar_data(df, location=location, date = sol, sunrise = sunrise, sunset = sunset):\n",
    "    '''\n",
    "    function takes a time in days, a zipcode, and a date\n",
    "    and prepares a dictionary of information for as many days as time_span designates\n",
    "    '''\n",
    "#     this goes here right now\n",
    "    df.set_index(['Minutes'], inplace=True)\n",
    "    \n",
    "    # init web browser\n",
    "    Me = \"Users/Mark/Downloads\"\n",
    "    chromedriver_path = f'C:/{Me}/chromedriver_win32/chromedriver.exe'\n",
    "    driver = webdriver.Chrome(executable_path=chromedriver_path)\n",
    "    sleep(.25)\n",
    "    \n",
    "    #  Solar Topo\n",
    "    solartopo = 'http://solartopo.com'\n",
    "    orbit = '/solar-orbit.htm'\n",
    "    daylight = '/daylength.htm'\n",
    "\n",
    "    date_picker = '//*[@id=\"datepicker\"]'\n",
    "    address_bar = '//*[@id=\"address\"]'\n",
    "    submit = '/html/body/div[1]/div[9]/div[1]/input[2]'\n",
    "    \n",
    "    # navigate to solartopo.com\n",
    "    sun_getter = (f'{solartopo}{orbit}')\n",
    "    driver.get(sun_getter)\n",
    "    sleep(randint(2,3))\n",
    "    \n",
    "    # set local definition for sunrise and sunset as minute integers\n",
    "    sunrise = convert_minutes(sunrise, forward=True, seconds=True)\n",
    "    sunset = convert_minutes(sunset, forward=True, seconds=True)\n",
    "    \n",
    "    # input location and time\n",
    "    driver.find_element_by_xpath(f\"{date_picker}\").clear()\n",
    "    driver.find_element_by_xpath(f\"{date_picker}\").send_keys(f'{date}')\n",
    "    driver.find_element_by_xpath(f\"{address_bar}\").clear()\n",
    "    driver.find_element_by_xpath(f\"{address_bar}\").send_keys(f'{location}')\n",
    "    driver.find_element_by_xpath(f\"{submit}\").click()    \n",
    "\n",
    "    # Trun the clock back in order to get chronologic readings\n",
    "    display_time = driver.find_element_by_xpath('//*[@id=\"time\"]').text\n",
    "    slider = driver.find_element_by_xpath('//*[@id=\"slider-range-min\"]/a')\n",
    "    while convert_minutes(display_time, forward=True, seconds=False) > sunrise:\n",
    "        print(display_time)\n",
    "        display_time = driver.find_element_by_xpath('//*[@id=\"time\"]').text\n",
    "        slider.send_keys(Keys.ARROW_LEFT + Keys.ARROW_LEFT + Keys.ARROW_LEFT + Keys.ARROW_LEFT + Keys.ARROW_LEFT\n",
    "                        + Keys.ARROW_LEFT + Keys.ARROW_LEFT + Keys.ARROW_LEFT + Keys.ARROW_LEFT + Keys.ARROW_LEFT)\n",
    "        \n",
    "    # Collect readings for daylight hours\n",
    "    # hard coded for 15 minute intervals 24 * 4 = 96 are the max intervals in one day\n",
    "    for i in range(96):\n",
    "        slider.send_keys(Keys.ARROW_RIGHT + Keys.ARROW_RIGHT + Keys.ARROW_RIGHT + Keys.ARROW_RIGHT + Keys.ARROW_RIGHT\n",
    "                    + Keys.ARROW_RIGHT + Keys.ARROW_RIGHT + Keys.ARROW_RIGHT + Keys.ARROW_RIGHT + Keys.ARROW_RIGHT\n",
    "                        + Keys.ARROW_RIGHT + Keys.ARROW_RIGHT + Keys.ARROW_RIGHT + Keys.ARROW_RIGHT + Keys.ARROW_RIGHT)\n",
    "        display_time = driver.find_element_by_xpath('//*[@id=\"time\"]').text\n",
    "        minute = convert_minutes(display_time, forward=True, seconds=False)\n",
    "        if minute < sunrise:\n",
    "            pass\n",
    "        elif minute > sunset:\n",
    "            break\n",
    "        else:\n",
    "            # scrape zenith / azimuth\n",
    "            zenith, azimuth = get_sunpath(driver)\n",
    "            iloc = results.index.get_loc(minute, method='bfill')\n",
    "            df['Zenith Angle [degrees]'].iloc[iloc] = zenith\n",
    "            df['Azimuth Angle [degrees]'].iloc[iloc] = azimuth\n",
    "                \n",
    "    return"
   ]
  },
  {
   "cell_type": "code",
   "execution_count": 840,
   "metadata": {},
   "outputs": [
    {
     "name": "stdout",
     "output_type": "stream",
     "text": [
      "12:00\n",
      "12:00\n",
      "11:50\n",
      "11:40\n",
      "11:30\n",
      "11:20\n",
      "11:10\n",
      "11:00\n",
      "10:50\n",
      "10:40\n",
      "10:30\n",
      "10:20\n",
      "10:10\n",
      "10:00\n",
      "09:50\n",
      "09:40\n",
      "09:30\n",
      "09:20\n",
      "09:10\n",
      "09:00\n",
      "08:50\n",
      "08:40\n",
      "08:30\n",
      "08:20\n",
      "08:10\n",
      "08:00\n",
      "07:50\n",
      "07:40\n",
      "07:30\n",
      "07:20\n",
      "07:10\n",
      "07:00\n",
      "06:50\n",
      "06:40\n",
      "06:30\n",
      "06:20\n",
      "06:10\n",
      "-1.06 75.24\n",
      "1.83 77.65\n",
      "4.52 80.02\n",
      "7.26 82.38\n",
      "10.1 84.74\n",
      "12.95 87.1\n",
      "15.82 89.48\n",
      "18.69 91.89\n",
      "21.56 94.36\n",
      "24.42 96.88\n",
      "27.26 99.49\n",
      "30.09 102.18\n",
      "32.89 105.02\n",
      "35.65 107.97\n",
      "38.36 111.12\n",
      "41.02 114.43\n",
      "43.59 118.04\n",
      "46.09 121.84\n",
      "48.47 126.04\n",
      "50.74 130.5\n",
      "52.82 135.48\n",
      "54.76 140.75\n",
      "56.43 146.63\n",
      "57.92 152.8\n",
      "59.03 159.58\n",
      "59.91 166.56\n",
      "60.34 173.95\n",
      "60.51 181.36\n",
      "60.19 188.79\n",
      "59.64 196.04\n",
      "58.61 202.93\n",
      "57.4 209.52\n",
      "55.8 215.53\n",
      "54.05 221.24\n",
      "52.02 226.33\n",
      "49.88 231.15\n",
      "47.55 235.45\n",
      "45.14 239.55\n",
      "42.59 243.22\n",
      "39.99 246.75\n",
      "37.3 249.96\n",
      "34.57 253.06\n",
      "31.79 255.93\n",
      "28.98 258.73\n",
      "26.14 261.37\n",
      "23.28 263.95\n",
      "20.41 266.43\n",
      "17.54 268.88\n",
      "14.66 271.27\n",
      "11.79 273.65\n",
      "8.95 276.0\n",
      "6.13 278.35\n"
     ]
    }
   ],
   "source": [
    "collect_solar_data(results)"
   ]
  },
  {
   "cell_type": "code",
   "execution_count": 846,
   "metadata": {},
   "outputs": [
    {
     "data": {
      "text/html": [
       "<div>\n",
       "<style scoped>\n",
       "    .dataframe tbody tr th:only-of-type {\n",
       "        vertical-align: middle;\n",
       "    }\n",
       "\n",
       "    .dataframe tbody tr th {\n",
       "        vertical-align: top;\n",
       "    }\n",
       "\n",
       "    .dataframe thead th {\n",
       "        text-align: right;\n",
       "    }\n",
       "</style>\n",
       "<table border=\"1\" class=\"dataframe\">\n",
       "  <thead>\n",
       "    <tr style=\"text-align: right;\">\n",
       "      <th></th>\n",
       "      <th>Zenith Angle [degrees]</th>\n",
       "      <th>Azimuth Angle [degrees]</th>\n",
       "      <th>Latitude [deg]</th>\n",
       "      <th>Longitude [deg]</th>\n",
       "      <th>Temp [deg C]</th>\n",
       "      <th>Time Index</th>\n",
       "    </tr>\n",
       "    <tr>\n",
       "      <th>Minutes</th>\n",
       "      <th></th>\n",
       "      <th></th>\n",
       "      <th></th>\n",
       "      <th></th>\n",
       "      <th></th>\n",
       "      <th></th>\n",
       "    </tr>\n",
       "  </thead>\n",
       "  <tbody>\n",
       "    <tr>\n",
       "      <th>360</th>\n",
       "      <td>NaN</td>\n",
       "      <td>NaN</td>\n",
       "      <td>39.695883</td>\n",
       "      <td>-105.110853</td>\n",
       "      <td>15.577778</td>\n",
       "      <td>1566820800</td>\n",
       "    </tr>\n",
       "    <tr>\n",
       "      <th>375</th>\n",
       "      <td>NaN</td>\n",
       "      <td>NaN</td>\n",
       "      <td>39.695883</td>\n",
       "      <td>-105.110853</td>\n",
       "      <td>15.577778</td>\n",
       "      <td>NaN</td>\n",
       "    </tr>\n",
       "    <tr>\n",
       "      <th>390</th>\n",
       "      <td>75.24</td>\n",
       "      <td>-1.06</td>\n",
       "      <td>39.695883</td>\n",
       "      <td>-105.110853</td>\n",
       "      <td>15.577778</td>\n",
       "      <td>NaN</td>\n",
       "    </tr>\n",
       "    <tr>\n",
       "      <th>405</th>\n",
       "      <td>77.65</td>\n",
       "      <td>1.83</td>\n",
       "      <td>39.695883</td>\n",
       "      <td>-105.110853</td>\n",
       "      <td>15.577778</td>\n",
       "      <td>NaN</td>\n",
       "    </tr>\n",
       "    <tr>\n",
       "      <th>420</th>\n",
       "      <td>80.02</td>\n",
       "      <td>4.52</td>\n",
       "      <td>39.695883</td>\n",
       "      <td>-105.110853</td>\n",
       "      <td>15.172222</td>\n",
       "      <td>1566824400</td>\n",
       "    </tr>\n",
       "  </tbody>\n",
       "</table>\n",
       "</div>"
      ],
      "text/plain": [
       "        Zenith Angle [degrees] Azimuth Angle [degrees]  Latitude [deg]  \\\n",
       "Minutes                                                                  \n",
       "360                        NaN                     NaN       39.695883   \n",
       "375                        NaN                     NaN       39.695883   \n",
       "390                      75.24                   -1.06       39.695883   \n",
       "405                      77.65                    1.83       39.695883   \n",
       "420                      80.02                    4.52       39.695883   \n",
       "\n",
       "         Longitude [deg]  Temp [deg C]  Time Index  \n",
       "Minutes                                             \n",
       "360          -105.110853     15.577778  1566820800  \n",
       "375          -105.110853     15.577778         NaN  \n",
       "390          -105.110853     15.577778         NaN  \n",
       "405          -105.110853     15.577778         NaN  \n",
       "420          -105.110853     15.172222  1566824400  "
      ]
     },
     "execution_count": 846,
     "metadata": {},
     "output_type": "execute_result"
    }
   ],
   "source": [
    "results.loc[360:420]"
   ]
  },
  {
   "cell_type": "code",
   "execution_count": 885,
   "metadata": {},
   "outputs": [],
   "source": [
    "copy = results.copy()"
   ]
  },
  {
   "cell_type": "code",
   "execution_count": 866,
   "metadata": {},
   "outputs": [
    {
     "data": {
      "text/html": [
       "<div>\n",
       "<style scoped>\n",
       "    .dataframe tbody tr th:only-of-type {\n",
       "        vertical-align: middle;\n",
       "    }\n",
       "\n",
       "    .dataframe tbody tr th {\n",
       "        vertical-align: top;\n",
       "    }\n",
       "\n",
       "    .dataframe thead th {\n",
       "        text-align: right;\n",
       "    }\n",
       "</style>\n",
       "<table border=\"1\" class=\"dataframe\">\n",
       "  <thead>\n",
       "    <tr style=\"text-align: right;\">\n",
       "      <th></th>\n",
       "      <th>Zenith Angle [degrees]</th>\n",
       "      <th>Azimuth Angle [degrees]</th>\n",
       "      <th>Latitude [deg]</th>\n",
       "      <th>Longitude [deg]</th>\n",
       "      <th>Temp [deg C]</th>\n",
       "      <th>Time Index</th>\n",
       "    </tr>\n",
       "    <tr>\n",
       "      <th>Minutes</th>\n",
       "      <th></th>\n",
       "      <th></th>\n",
       "      <th></th>\n",
       "      <th></th>\n",
       "      <th></th>\n",
       "      <th></th>\n",
       "    </tr>\n",
       "  </thead>\n",
       "  <tbody>\n",
       "    <tr>\n",
       "      <th>0</th>\n",
       "      <td>NaN</td>\n",
       "      <td>NaN</td>\n",
       "      <td>39.695883</td>\n",
       "      <td>-105.110853</td>\n",
       "      <td>25.955556</td>\n",
       "      <td>1566799200</td>\n",
       "    </tr>\n",
       "    <tr>\n",
       "      <th>15</th>\n",
       "      <td>NaN</td>\n",
       "      <td>NaN</td>\n",
       "      <td>39.695883</td>\n",
       "      <td>-105.110853</td>\n",
       "      <td>25.955556</td>\n",
       "      <td>1566800100</td>\n",
       "    </tr>\n",
       "    <tr>\n",
       "      <th>30</th>\n",
       "      <td>NaN</td>\n",
       "      <td>NaN</td>\n",
       "      <td>39.695883</td>\n",
       "      <td>-105.110853</td>\n",
       "      <td>25.955556</td>\n",
       "      <td>1566801000</td>\n",
       "    </tr>\n",
       "    <tr>\n",
       "      <th>45</th>\n",
       "      <td>NaN</td>\n",
       "      <td>NaN</td>\n",
       "      <td>39.695883</td>\n",
       "      <td>-105.110853</td>\n",
       "      <td>25.955556</td>\n",
       "      <td>1566801900</td>\n",
       "    </tr>\n",
       "    <tr>\n",
       "      <th>60</th>\n",
       "      <td>NaN</td>\n",
       "      <td>NaN</td>\n",
       "      <td>39.695883</td>\n",
       "      <td>-105.110853</td>\n",
       "      <td>24.438889</td>\n",
       "      <td>1566802800</td>\n",
       "    </tr>\n",
       "  </tbody>\n",
       "</table>\n",
       "</div>"
      ],
      "text/plain": [
       "        Zenith Angle [degrees] Azimuth Angle [degrees]  Latitude [deg]  \\\n",
       "Minutes                                                                  \n",
       "0                          NaN                     NaN       39.695883   \n",
       "15                         NaN                     NaN       39.695883   \n",
       "30                         NaN                     NaN       39.695883   \n",
       "45                         NaN                     NaN       39.695883   \n",
       "60                         NaN                     NaN       39.695883   \n",
       "\n",
       "         Longitude [deg]  Temp [deg C]  Time Index  \n",
       "Minutes                                             \n",
       "0            -105.110853     25.955556  1566799200  \n",
       "15           -105.110853     25.955556  1566800100  \n",
       "30           -105.110853     25.955556  1566801000  \n",
       "45           -105.110853     25.955556  1566801900  \n",
       "60           -105.110853     24.438889  1566802800  "
      ]
     },
     "execution_count": 866,
     "metadata": {},
     "output_type": "execute_result"
    }
   ],
   "source": [
    "copy.head()"
   ]
  },
  {
   "cell_type": "code",
   "execution_count": 867,
   "metadata": {},
   "outputs": [
    {
     "data": {
      "text/plain": [
       "Index(['Zenith Angle [degrees]', 'Azimuth Angle [degrees]', 'Latitude [deg]',\n",
       "       'Longitude [deg]', 'Temp [deg C]', 'Time Index'],\n",
       "      dtype='object')"
      ]
     },
     "execution_count": 867,
     "metadata": {},
     "output_type": "execute_result"
    }
   ],
   "source": [
    "copy.columns"
   ]
  },
  {
   "cell_type": "markdown",
   "metadata": {},
   "source": [
    "<h3> Cleaning Data </h3>\n",
    "\n",
    "To save trouble, eliminate room for error, and pad our visual with easy and accurate predictions.  We want to set all values before sunrise and after sunset to zeros.  This will signal the model to output a huge negative W/m^2 output which is just fine because when it comes time to plot we can translate any negative values to zero."
   ]
  },
  {
   "cell_type": "code",
   "execution_count": 886,
   "metadata": {},
   "outputs": [],
   "source": [
    "def cleaning(df, timezone = 6):\n",
    "        \n",
    "    sunrise_minutes = convert_minutes(sunrise, forward=True, seconds=True)\n",
    "    sunset_minutes = convert_minutes(sunset, forward=True, seconds=True)\n",
    "\n",
    "    df.loc[0:sunrise_minutes+15, ['Zenith Angle [degrees]', 'Azimuth Angle [degrees]', 'Latitude [deg]',\n",
    "       'Longitude [deg]', 'Temp [deg C]']] = 0 # because we chose to back fill the solar data we have one na reading after sunsrise = \n",
    "    df.loc[sunset_minutes:0, ['Zenith Angle [degrees]', 'Azimuth Angle [degrees]', 'Latitude [deg]',\n",
    "       'Longitude [deg]', 'Temp [deg C]']] = 0\n",
    "    \n",
    "    df['Time Index'] = pd.to_datetime(df['Time Index'], unit='s')\n",
    "    # time is four hours ahead because of timezone +6 GMT\n",
    "    df['Time Index'] = df['Time Index'] - pd.Timedelta(hours = timezone)\n",
    "    final = df.set_index(pd.DatetimeIndex(df['Time Index']), append=True)\n",
    "    final.reset_index(level=0, inplace=True)\n",
    "\n",
    "\n",
    "    return final"
   ]
  },
  {
   "cell_type": "code",
   "execution_count": 887,
   "metadata": {},
   "outputs": [],
   "source": [
    "results_2 = cleaning(copy)"
   ]
  },
  {
   "cell_type": "code",
   "execution_count": 888,
   "metadata": {},
   "outputs": [
    {
     "data": {
      "text/html": [
       "<div>\n",
       "<style scoped>\n",
       "    .dataframe tbody tr th:only-of-type {\n",
       "        vertical-align: middle;\n",
       "    }\n",
       "\n",
       "    .dataframe tbody tr th {\n",
       "        vertical-align: top;\n",
       "    }\n",
       "\n",
       "    .dataframe thead th {\n",
       "        text-align: right;\n",
       "    }\n",
       "</style>\n",
       "<table border=\"1\" class=\"dataframe\">\n",
       "  <thead>\n",
       "    <tr style=\"text-align: right;\">\n",
       "      <th></th>\n",
       "      <th>Minutes</th>\n",
       "      <th>Zenith Angle [degrees]</th>\n",
       "      <th>Azimuth Angle [degrees]</th>\n",
       "      <th>Latitude [deg]</th>\n",
       "      <th>Longitude [deg]</th>\n",
       "      <th>Temp [deg C]</th>\n",
       "      <th>Time Index</th>\n",
       "    </tr>\n",
       "    <tr>\n",
       "      <th>Time Index</th>\n",
       "      <th></th>\n",
       "      <th></th>\n",
       "      <th></th>\n",
       "      <th></th>\n",
       "      <th></th>\n",
       "      <th></th>\n",
       "      <th></th>\n",
       "    </tr>\n",
       "  </thead>\n",
       "  <tbody>\n",
       "    <tr>\n",
       "      <th>2019-08-26 00:00:00</th>\n",
       "      <td>0</td>\n",
       "      <td>0</td>\n",
       "      <td>0</td>\n",
       "      <td>0.0</td>\n",
       "      <td>0.0</td>\n",
       "      <td>0.0</td>\n",
       "      <td>2019-08-26 00:00:00</td>\n",
       "    </tr>\n",
       "    <tr>\n",
       "      <th>2019-08-26 00:15:00</th>\n",
       "      <td>15</td>\n",
       "      <td>0</td>\n",
       "      <td>0</td>\n",
       "      <td>0.0</td>\n",
       "      <td>0.0</td>\n",
       "      <td>0.0</td>\n",
       "      <td>2019-08-26 00:15:00</td>\n",
       "    </tr>\n",
       "    <tr>\n",
       "      <th>2019-08-26 00:30:00</th>\n",
       "      <td>30</td>\n",
       "      <td>0</td>\n",
       "      <td>0</td>\n",
       "      <td>0.0</td>\n",
       "      <td>0.0</td>\n",
       "      <td>0.0</td>\n",
       "      <td>2019-08-26 00:30:00</td>\n",
       "    </tr>\n",
       "    <tr>\n",
       "      <th>2019-08-26 00:45:00</th>\n",
       "      <td>45</td>\n",
       "      <td>0</td>\n",
       "      <td>0</td>\n",
       "      <td>0.0</td>\n",
       "      <td>0.0</td>\n",
       "      <td>0.0</td>\n",
       "      <td>2019-08-26 00:45:00</td>\n",
       "    </tr>\n",
       "    <tr>\n",
       "      <th>2019-08-26 01:00:00</th>\n",
       "      <td>60</td>\n",
       "      <td>0</td>\n",
       "      <td>0</td>\n",
       "      <td>0.0</td>\n",
       "      <td>0.0</td>\n",
       "      <td>0.0</td>\n",
       "      <td>2019-08-26 01:00:00</td>\n",
       "    </tr>\n",
       "  </tbody>\n",
       "</table>\n",
       "</div>"
      ],
      "text/plain": [
       "                     Minutes Zenith Angle [degrees] Azimuth Angle [degrees]  \\\n",
       "Time Index                                                                    \n",
       "2019-08-26 00:00:00        0                      0                       0   \n",
       "2019-08-26 00:15:00       15                      0                       0   \n",
       "2019-08-26 00:30:00       30                      0                       0   \n",
       "2019-08-26 00:45:00       45                      0                       0   \n",
       "2019-08-26 01:00:00       60                      0                       0   \n",
       "\n",
       "                     Latitude [deg]  Longitude [deg]  Temp [deg C]  \\\n",
       "Time Index                                                           \n",
       "2019-08-26 00:00:00             0.0              0.0           0.0   \n",
       "2019-08-26 00:15:00             0.0              0.0           0.0   \n",
       "2019-08-26 00:30:00             0.0              0.0           0.0   \n",
       "2019-08-26 00:45:00             0.0              0.0           0.0   \n",
       "2019-08-26 01:00:00             0.0              0.0           0.0   \n",
       "\n",
       "                             Time Index  \n",
       "Time Index                               \n",
       "2019-08-26 00:00:00 2019-08-26 00:00:00  \n",
       "2019-08-26 00:15:00 2019-08-26 00:15:00  \n",
       "2019-08-26 00:30:00 2019-08-26 00:30:00  \n",
       "2019-08-26 00:45:00 2019-08-26 00:45:00  \n",
       "2019-08-26 01:00:00 2019-08-26 01:00:00  "
      ]
     },
     "execution_count": 888,
     "metadata": {},
     "output_type": "execute_result"
    }
   ],
   "source": [
    "results_2.head()"
   ]
  },
  {
   "cell_type": "code",
   "execution_count": 889,
   "metadata": {},
   "outputs": [],
   "source": [
    "results_2['Minutes Final'] = results_2['Minutes']"
   ]
  },
  {
   "cell_type": "code",
   "execution_count": 890,
   "metadata": {},
   "outputs": [],
   "source": [
    "results_2.drop(['Minutes', 'Time Index'], axis = 1, inplace = True)"
   ]
  },
  {
   "cell_type": "code",
   "execution_count": 891,
   "metadata": {},
   "outputs": [
    {
     "data": {
      "text/html": [
       "<div>\n",
       "<style scoped>\n",
       "    .dataframe tbody tr th:only-of-type {\n",
       "        vertical-align: middle;\n",
       "    }\n",
       "\n",
       "    .dataframe tbody tr th {\n",
       "        vertical-align: top;\n",
       "    }\n",
       "\n",
       "    .dataframe thead th {\n",
       "        text-align: right;\n",
       "    }\n",
       "</style>\n",
       "<table border=\"1\" class=\"dataframe\">\n",
       "  <thead>\n",
       "    <tr style=\"text-align: right;\">\n",
       "      <th></th>\n",
       "      <th>Zenith Angle [degrees]</th>\n",
       "      <th>Azimuth Angle [degrees]</th>\n",
       "      <th>Latitude [deg]</th>\n",
       "      <th>Longitude [deg]</th>\n",
       "      <th>Temp [deg C]</th>\n",
       "      <th>Minutes Final</th>\n",
       "    </tr>\n",
       "    <tr>\n",
       "      <th>Time Index</th>\n",
       "      <th></th>\n",
       "      <th></th>\n",
       "      <th></th>\n",
       "      <th></th>\n",
       "      <th></th>\n",
       "      <th></th>\n",
       "    </tr>\n",
       "  </thead>\n",
       "  <tbody>\n",
       "    <tr>\n",
       "      <th>2019-08-26 00:00:00</th>\n",
       "      <td>0</td>\n",
       "      <td>0</td>\n",
       "      <td>0.0</td>\n",
       "      <td>0.0</td>\n",
       "      <td>0.0</td>\n",
       "      <td>0</td>\n",
       "    </tr>\n",
       "    <tr>\n",
       "      <th>2019-08-26 00:15:00</th>\n",
       "      <td>0</td>\n",
       "      <td>0</td>\n",
       "      <td>0.0</td>\n",
       "      <td>0.0</td>\n",
       "      <td>0.0</td>\n",
       "      <td>15</td>\n",
       "    </tr>\n",
       "    <tr>\n",
       "      <th>2019-08-26 00:30:00</th>\n",
       "      <td>0</td>\n",
       "      <td>0</td>\n",
       "      <td>0.0</td>\n",
       "      <td>0.0</td>\n",
       "      <td>0.0</td>\n",
       "      <td>30</td>\n",
       "    </tr>\n",
       "    <tr>\n",
       "      <th>2019-08-26 00:45:00</th>\n",
       "      <td>0</td>\n",
       "      <td>0</td>\n",
       "      <td>0.0</td>\n",
       "      <td>0.0</td>\n",
       "      <td>0.0</td>\n",
       "      <td>45</td>\n",
       "    </tr>\n",
       "    <tr>\n",
       "      <th>2019-08-26 01:00:00</th>\n",
       "      <td>0</td>\n",
       "      <td>0</td>\n",
       "      <td>0.0</td>\n",
       "      <td>0.0</td>\n",
       "      <td>0.0</td>\n",
       "      <td>60</td>\n",
       "    </tr>\n",
       "  </tbody>\n",
       "</table>\n",
       "</div>"
      ],
      "text/plain": [
       "                    Zenith Angle [degrees] Azimuth Angle [degrees]  \\\n",
       "Time Index                                                           \n",
       "2019-08-26 00:00:00                      0                       0   \n",
       "2019-08-26 00:15:00                      0                       0   \n",
       "2019-08-26 00:30:00                      0                       0   \n",
       "2019-08-26 00:45:00                      0                       0   \n",
       "2019-08-26 01:00:00                      0                       0   \n",
       "\n",
       "                     Latitude [deg]  Longitude [deg]  Temp [deg C]  \\\n",
       "Time Index                                                           \n",
       "2019-08-26 00:00:00             0.0              0.0           0.0   \n",
       "2019-08-26 00:15:00             0.0              0.0           0.0   \n",
       "2019-08-26 00:30:00             0.0              0.0           0.0   \n",
       "2019-08-26 00:45:00             0.0              0.0           0.0   \n",
       "2019-08-26 01:00:00             0.0              0.0           0.0   \n",
       "\n",
       "                     Minutes Final  \n",
       "Time Index                          \n",
       "2019-08-26 00:00:00              0  \n",
       "2019-08-26 00:15:00             15  \n",
       "2019-08-26 00:30:00             30  \n",
       "2019-08-26 00:45:00             45  \n",
       "2019-08-26 01:00:00             60  "
      ]
     },
     "execution_count": 891,
     "metadata": {},
     "output_type": "execute_result"
    }
   ],
   "source": [
    "results_2.head()"
   ]
  },
  {
   "cell_type": "markdown",
   "metadata": {},
   "source": [
    "<h2> Send Cached Data <h2>"
   ]
  },
  {
   "cell_type": "code",
   "execution_count": null,
   "metadata": {},
   "outputs": [],
   "source": [
    "# if minutes converted to pandas datetime series can set conditionals for plot\n",
    "# midnight to sunrise fill df.loc[midnight:sunrise] = 0"
   ]
  },
  {
   "cell_type": "code",
   "execution_count": null,
   "metadata": {},
   "outputs": [],
   "source": [
    "# launch on heroku"
   ]
  },
  {
   "cell_type": "markdown",
   "metadata": {},
   "source": [
    "<h2> Test Cached Data Using Trained Ensemble Model </h2>"
   ]
  },
  {
   "cell_type": "code",
   "execution_count": 319,
   "metadata": {},
   "outputs": [
    {
     "data": {
      "text/plain": [
       "'C:\\\\Users\\\\Mark\\\\Documents\\\\DataSci\\\\Module 3\\\\Peer2Peer'"
      ]
     },
     "execution_count": 319,
     "metadata": {},
     "output_type": "execute_result"
    }
   ],
   "source": [
    "import os\n",
    "cwd = os.getcwd()\n",
    "cwd"
   ]
  },
  {
   "cell_type": "code",
   "execution_count": 765,
   "metadata": {},
   "outputs": [
    {
     "name": "stdout",
     "output_type": "stream",
     "text": [
      "[12:45:05] WARNING: d:\\build\\xgboost\\xgboost-0.90.git\\src\\objective\\regression_obj.cu:152: reg:linear is now deprecated in favor of reg:squarederror.\n"
     ]
    },
    {
     "data": {
      "text/plain": [
       "sklearn.model_selection._search.GridSearchCV"
      ]
     },
     "execution_count": 765,
     "metadata": {},
     "output_type": "execute_result"
    }
   ],
   "source": [
    "import pickle\n",
    "loaded_model = pickle.load(open('C:\\\\Users\\\\Mark\\\\Documents\\\\DataSci\\\\Module 5\\\\finalized_model.pkl', 'rb'))\n",
    "loaded_scaler = pickle.load(open('C:\\\\Users\\\\Mark\\\\Documents\\\\DataSci\\\\Module 5\\\\scaler.pkl', 'rb'))\n",
    "\n",
    "features2 = loaded_scaler.transform(results_2)\n",
    "output2 = loaded_model.predict(features)\n",
    "output2 = output2.clip(min=0)"
   ]
  },
  {
   "cell_type": "code",
   "execution_count": 901,
   "metadata": {},
   "outputs": [
    {
     "data": {
      "text/plain": [
       "array([  0.       ,   0.       ,   0.       ,   0.       ,   0.       ,\n",
       "         0.       ,   0.       ,   0.       ,   0.       ,   0.       ,\n",
       "         0.       ,   0.       ,   0.       ,   0.       ,   0.       ,\n",
       "         0.       ,   0.       ,   0.       ,   0.       ,   0.       ,\n",
       "         0.       ,   0.       ,   0.       ,   0.       ,   0.       ,\n",
       "         0.       , 135.03836  , 118.347145 ,  63.522198 ,  53.465206 ,\n",
       "        42.164394 ,  15.849642 ,   1.9054433,   0.       ,   0.       ,\n",
       "         0.       ,   0.       ,   0.       ,   0.       ,   0.       ,\n",
       "         0.       ,   0.       ,   0.       ,   0.       ,   0.       ,\n",
       "         0.       ,   0.       ,   0.       ,   0.       ,   0.       ,\n",
       "         0.       ,   0.       ,   0.       ,   0.       ,   0.       ,\n",
       "         0.       ,   0.       ,   0.       ,   0.       ,   0.       ,\n",
       "         0.       ,   0.       ,   0.       ,   0.       ,   6.2453365,\n",
       "         6.2453365,   6.2453365,   0.       ,   0.       ,   0.       ,\n",
       "         0.       ,   0.       ,   0.       ,   0.       ,   0.       ,\n",
       "         0.       ,  42.02007  ,  42.02007  , 554.82745  , 545.5152   ,\n",
       "       639.7317   , 720.26843  , 456.76984  , 233.9638   ,   0.       ,\n",
       "         0.       ,   0.       ,   0.       ,   0.       ,   0.       ,\n",
       "         0.       ,   0.       ,   0.       ,   0.       ,   0.       ,\n",
       "         0.       ], dtype=float32)"
      ]
     },
     "execution_count": 901,
     "metadata": {},
     "output_type": "execute_result"
    }
   ],
   "source": [
    "output2"
   ]
  },
  {
   "cell_type": "code",
   "execution_count": 762,
   "metadata": {},
   "outputs": [],
   "source": [
    "import matplotlib.pyplot as plt"
   ]
  },
  {
   "cell_type": "code",
   "execution_count": 902,
   "metadata": {},
   "outputs": [
    {
     "data": {
      "image/png": "[encoded data removed]",
      "text/plain": [
       "<Figure size 432x288 with 1 Axes>"
      ]
     },
     "metadata": {
      "needs_background": "light"
     },
     "output_type": "display_data"
    }
   ],
   "source": [
    "x = np.array(range(len(output)))\n",
    "x = x*15\n",
    "plt.plot(x, output2);"
   ]
  },
  {
   "cell_type": "code",
   "execution_count": 910,
   "metadata": {},
   "outputs": [
    {
     "name": "stdout",
     "output_type": "stream",
     "text": [
      "[09:28:45] WARNING: d:\\build\\xgboost\\xgboost-0.90.git\\src\\objective\\regression_obj.cu:152: reg:linear is now deprecated in favor of reg:squarederror.\n"
     ]
    }
   ],
   "source": [
    "import pickle\n",
    "loaded_ss_model = pickle.load(open('C:\\\\Users\\\\Mark\\\\Documents\\\\DataSci\\\\Module 5\\\\ss_model.pkl', 'rb'))\n",
    "loaded_ss_scaler = pickle.load(open('C:\\\\Users\\\\Mark\\\\Documents\\\\DataSci\\\\Module 5\\\\ss_scaler.pkl', 'rb'))\n",
    "\n",
    "features2 = loaded_ss_scaler.transform(results_2)\n",
    "output3 = loaded_ss_model.predict(features2)\n",
    "output3 = output2.clip(min=0)"
   ]
  },
  {
   "cell_type": "code",
   "execution_count": 911,
   "metadata": {},
   "outputs": [
    {
     "data": {
      "text/plain": [
       "array([  0.       ,   0.       ,   0.       ,   0.       ,   0.       ,\n",
       "         0.       ,   0.       ,   0.       ,   0.       ,   0.       ,\n",
       "         0.       ,   0.       ,   0.       ,   0.       ,   0.       ,\n",
       "         0.       ,   0.       ,   0.       ,   0.       ,   0.       ,\n",
       "         0.       ,   0.       ,   0.       ,   0.       ,   0.       ,\n",
       "         0.       , 135.03836  , 118.347145 ,  63.522198 ,  53.465206 ,\n",
       "        42.164394 ,  15.849642 ,   1.9054433,   0.       ,   0.       ,\n",
       "         0.       ,   0.       ,   0.       ,   0.       ,   0.       ,\n",
       "         0.       ,   0.       ,   0.       ,   0.       ,   0.       ,\n",
       "         0.       ,   0.       ,   0.       ,   0.       ,   0.       ,\n",
       "         0.       ,   0.       ,   0.       ,   0.       ,   0.       ,\n",
       "         0.       ,   0.       ,   0.       ,   0.       ,   0.       ,\n",
       "         0.       ,   0.       ,   0.       ,   0.       ,   6.2453365,\n",
       "         6.2453365,   6.2453365,   0.       ,   0.       ,   0.       ,\n",
       "         0.       ,   0.       ,   0.       ,   0.       ,   0.       ,\n",
       "         0.       ,  42.02007  ,  42.02007  , 554.82745  , 545.5152   ,\n",
       "       639.7317   , 720.26843  , 456.76984  , 233.9638   ,   0.       ,\n",
       "         0.       ,   0.       ,   0.       ,   0.       ,   0.       ,\n",
       "         0.       ,   0.       ,   0.       ,   0.       ,   0.       ,\n",
       "         0.       ], dtype=float32)"
      ]
     },
     "execution_count": 911,
     "metadata": {},
     "output_type": "execute_result"
    }
   ],
   "source": [
    "output3"
   ]
  },
  {
   "cell_type": "code",
   "execution_count": 912,
   "metadata": {},
   "outputs": [
    {
     "data": {
      "image/png": "[encoded data removed]",
      "text/plain": [
       "<Figure size 432x288 with 1 Axes>"
      ]
     },
     "metadata": {
      "needs_background": "light"
     },
     "output_type": "display_data"
    }
   ],
   "source": [
    "x = np.array(range(len(output3)))\n",
    "x = x*15\n",
    "plt.plot(x, output3);"
   ]
  },
  {
   "cell_type": "code",
   "execution_count": null,
   "metadata": {},
   "outputs": [],
   "source": []
  }
 ],
 "metadata": {
  "kernelspec": {
   "display_name": "Python 3",
   "language": "python",
   "name": "python3"
  },
  "language_info": {
   "codemirror_mode": {
    "name": "ipython",
    "version": 3
   },
   "file_extension": ".py",
   "mimetype": "text/x-python",
   "name": "python",
   "nbconvert_exporter": "python",
   "pygments_lexer": "ipython3",
   "version": "3.6.7"
  }
 },
 "nbformat": 4,
 "nbformat_minor": 2
}
